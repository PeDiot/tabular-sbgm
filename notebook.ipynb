{
 "cells": [
  {
   "attachments": {},
   "cell_type": "markdown",
   "metadata": {},
   "source": [
    "# Tabular data augmentation with score-based generative models \n",
    "\n",
    "The selected dataset is the well-known german credit [dataset](https://github.com/Giskard-AI/giskard-client/blob/main/sample_data/classification/credit/german_credit_prepared.csv) which contains data related to bank customers' attributes as well as a variable indicating whether they defaulted on their credit. This dataset is usually used in classification models in order to build credit scoring models. \n",
    "\n",
    "However, the small amount of entries and the imbalanced class issue can make it difficult to build a scorer which correctly detects default credits. One solution to this problem is to synthetically generate data to increase the number of default credits. For this purpose we use **score-based generative modeling with multiple noise perturbations**. The main idea is to represent a distribution by modeling its score function, which can be estimated by training a score-based model of free-form architectures with score matching.\n",
    "\n",
    "It consists in two steps: \n",
    "\n",
    "1. Learn score functions using **gradients of log probability density functions** on a large number of noise-perturbed data distributions\n",
    "2. Generate samples with **Langevin-type sampling**"
   ]
  },
  {
   "attachments": {},
   "cell_type": "markdown",
   "metadata": {},
   "source": [
    "## Setup"
   ]
  },
  {
   "cell_type": "code",
   "execution_count": 460,
   "metadata": {},
   "outputs": [
    {
     "name": "stdout",
     "output_type": "stream",
     "text": [
      "The autoreload extension is already loaded. To reload it, use:\n",
      "  %reload_ext autoreload\n"
     ]
    }
   ],
   "source": [
    "%load_ext autoreload\n",
    "%autoreload 2"
   ]
  },
  {
   "cell_type": "code",
   "execution_count": 581,
   "metadata": {},
   "outputs": [],
   "source": [
    "import pandas as pd\n",
    "import numpy as np \n",
    "\n",
    "from sklearn.linear_model import LogisticRegression\n",
    "from sklearn.ensemble import RandomForestClassifier\n",
    "from sklearn.metrics import classification_report"
   ]
  },
  {
   "cell_type": "code",
   "execution_count": 554,
   "metadata": {},
   "outputs": [],
   "source": [
    "from src.utils import (\n",
    "    load_config, \n",
    "    load_pickle, \n",
    "    get_clf_metrics, \n",
    "    display_clf_metrics\n",
    ")\n",
    "from src.data import Data\n",
    "from src.runner.scorenet_runner import ScoreNetRunner\n",
    "from src.runner.anneal_runner import AnnealRunner"
   ]
  },
  {
   "attachments": {},
   "cell_type": "markdown",
   "metadata": {},
   "source": [
    "## Load original data"
   ]
  },
  {
   "cell_type": "code",
   "execution_count": 435,
   "metadata": {},
   "outputs": [
    {
     "name": "stdout",
     "output_type": "stream",
     "text": [
      "<class 'pandas.core.frame.DataFrame'>\n",
      "RangeIndex: 1000 entries, 0 to 999\n",
      "Data columns (total 22 columns):\n",
      " #   Column                      Non-Null Count  Dtype \n",
      "---  ------                      --------------  ----- \n",
      " 0   default                     1000 non-null   object\n",
      " 1   account_check_status        1000 non-null   object\n",
      " 2   duration_in_month           1000 non-null   int64 \n",
      " 3   credit_history              1000 non-null   object\n",
      " 4   purpose                     1000 non-null   object\n",
      " 5   credit_amount               1000 non-null   int64 \n",
      " 6   savings                     1000 non-null   object\n",
      " 7   present_employment_since    1000 non-null   object\n",
      " 8   installment_as_income_perc  1000 non-null   int64 \n",
      " 9   sex                         1000 non-null   object\n",
      " 10  personal_status             1000 non-null   object\n",
      " 11  other_debtors               1000 non-null   object\n",
      " 12  present_residence_since     1000 non-null   int64 \n",
      " 13  property                    1000 non-null   object\n",
      " 14  age                         1000 non-null   int64 \n",
      " 15  other_installment_plans     1000 non-null   object\n",
      " 16  housing                     1000 non-null   object\n",
      " 17  credits_this_bank           1000 non-null   int64 \n",
      " 18  job                         1000 non-null   object\n",
      " 19  people_under_maintenance    1000 non-null   int64 \n",
      " 20  telephone                   1000 non-null   object\n",
      " 21  foreign_worker              1000 non-null   object\n",
      "dtypes: int64(7), object(15)\n",
      "memory usage: 172.0+ KB\n",
      "None\n"
     ]
    },
    {
     "data": {
      "text/plain": [
       "Not default    0.7\n",
       "Default        0.3\n",
       "Name: default, dtype: float64"
      ]
     },
     "execution_count": 435,
     "metadata": {},
     "output_type": "execute_result"
    }
   ],
   "source": [
    "df = pd.read_csv(\"datasets/credit_data.csv\")\n",
    "\n",
    "print(df.info())\n",
    "df.default.value_counts(normalize=True, dropna=False)"
   ]
  },
  {
   "attachments": {},
   "cell_type": "markdown",
   "metadata": {},
   "source": [
    "Entries which have defaulted on their credit only account for 30% of the entire dataset. We thus focus the generative process on these samples. "
   ]
  },
  {
   "attachments": {},
   "cell_type": "markdown",
   "metadata": {},
   "source": [
    "## Data preparation"
   ]
  },
  {
   "cell_type": "code",
   "execution_count": 590,
   "metadata": {},
   "outputs": [],
   "source": [
    "CFG_TYPE = \"anneal\"                           # \"scorenet\" or \"anneal\"\n",
    "cfg = load_config(f\"configs/{CFG_TYPE}.yaml\") "
   ]
  },
  {
   "cell_type": "code",
   "execution_count": 591,
   "metadata": {},
   "outputs": [
    {
     "name": "stdout",
     "output_type": "stream",
     "text": [
      "Data(target=default, classification=True, reference=Default, test_prop=0.2, batch_size=32)\n"
     ]
    }
   ],
   "source": [
    "data = Data(cfg[\"data\"])\n",
    "print(data) \n",
    "\n",
    "data.preprocess(df)\n",
    "data.make_loaders()"
   ]
  },
  {
   "attachments": {},
   "cell_type": "markdown",
   "metadata": {},
   "source": [
    "## Train generator\n",
    "\n",
    "The loss function used to train the score-based generator depends on the `algo` argument entered in [`config`](configs/): \n",
    "\n",
    "- `dsm` means we use the denoising score matching objective as loss function\n",
    "- `ssm` means we use sliced score matching objective to greatly scale up the computation of score matching. \n",
    "\n",
    "One can also choose to add multiple noise perturbations with the [`anneal`](configs/anneal.yaml) configuration.\n",
    "\n",
    "More details can be found [here](https://yang-song.net/blog/2019/ssm/). "
   ]
  },
  {
   "cell_type": "code",
   "execution_count": 578,
   "metadata": {},
   "outputs": [],
   "source": [
    "if CFG_TYPE == \"scorenet\":\n",
    "    runner = ScoreNetRunner(cfg, data)\n",
    "\n",
    "elif CFG_TYPE == \"anneal\":\n",
    "    runner = AnnealRunner(cfg, data) \n",
    "\n",
    "if cfg[\"mode\"] == \"train\":\n",
    "    loss_tracker = runner.train()\n",
    "\n",
    "elif cfg[\"mode\"] == \"test\":\n",
    "    loss_tracker = load_pickle(f\"{cfg['backup']['dir']}/loss.pkl\")"
   ]
  },
  {
   "cell_type": "code",
   "execution_count": 579,
   "metadata": {},
   "outputs": [
    {
     "data": {
      "image/png": "[encoded data removed]",
      "text/plain": [
       "<Figure size 900x500 with 1 Axes>"
      ]
     },
     "metadata": {},
     "output_type": "display_data"
    }
   ],
   "source": [
    "pd.DataFrame(loss_tracker).plot(figsize=(9, 5), title=\"Score-matching loss over epochs\"); "
   ]
  },
  {
   "attachments": {},
   "cell_type": "markdown",
   "metadata": {},
   "source": [
    "## Generate new samples\n",
    "\n",
    "Once the score-based model trained, we can use an iterative procedure called Langevin dynamics to draw samples from it. Langevin dynamics provides an MCMC procedure to sample from a distribution using only its score function."
   ]
  },
  {
   "cell_type": "code",
   "execution_count": 580,
   "metadata": {},
   "outputs": [
    {
     "data": {
      "application/vnd.jupyter.widget-view+json": {
       "model_id": "6c1516ca8dde4ba0a55912cf73c5c137",
       "version_major": 2,
       "version_minor": 0
      },
      "text/plain": [
       "Generating 3 batches with 32 samples each using Langevin dynamics.:   0%|          | 0/3 [00:00<?, ?it/s]"
      ]
     },
     "metadata": {},
     "output_type": "display_data"
    },
    {
     "data": {
      "text/plain": [
       "torch.Size([96, 48])"
      ]
     },
     "execution_count": 580,
     "metadata": {},
     "output_type": "execute_result"
    }
   ],
   "source": [
    "synthetic_samples = runner.sample()\n",
    "synthetic_samples.shape"
   ]
  },
  {
   "cell_type": "code",
   "execution_count": 582,
   "metadata": {},
   "outputs": [],
   "source": [
    "data.generate(synthetic_samples)"
   ]
  },
  {
   "cell_type": "code",
   "execution_count": 583,
   "metadata": {},
   "outputs": [
    {
     "data": {
      "text/html": [
       "<div>\n",
       "<style scoped>\n",
       "    .dataframe tbody tr th:only-of-type {\n",
       "        vertical-align: middle;\n",
       "    }\n",
       "\n",
       "    .dataframe tbody tr th {\n",
       "        vertical-align: top;\n",
       "    }\n",
       "\n",
       "    .dataframe thead th {\n",
       "        text-align: right;\n",
       "    }\n",
       "</style>\n",
       "<table border=\"1\" class=\"dataframe\">\n",
       "  <thead>\n",
       "    <tr style=\"text-align: right;\">\n",
       "      <th></th>\n",
       "      <th>duration_in_month</th>\n",
       "      <th>credit_amount</th>\n",
       "      <th>installment_as_income_perc</th>\n",
       "      <th>present_residence_since</th>\n",
       "      <th>age</th>\n",
       "      <th>credits_this_bank</th>\n",
       "      <th>people_under_maintenance</th>\n",
       "      <th>account_check_status</th>\n",
       "      <th>credit_history</th>\n",
       "      <th>purpose</th>\n",
       "      <th>...</th>\n",
       "      <th>present_employment_since</th>\n",
       "      <th>sex</th>\n",
       "      <th>personal_status</th>\n",
       "      <th>other_debtors</th>\n",
       "      <th>property</th>\n",
       "      <th>other_installment_plans</th>\n",
       "      <th>housing</th>\n",
       "      <th>job</th>\n",
       "      <th>telephone</th>\n",
       "      <th>foreign_worker</th>\n",
       "    </tr>\n",
       "  </thead>\n",
       "  <tbody>\n",
       "    <tr>\n",
       "      <th>0</th>\n",
       "      <td>26.040852</td>\n",
       "      <td>6192.719727</td>\n",
       "      <td>3.470423</td>\n",
       "      <td>3.16732</td>\n",
       "      <td>37.449894</td>\n",
       "      <td>1.906232</td>\n",
       "      <td>1.25611</td>\n",
       "      <td>&gt;= 200 DM / salary assignments for at least 1 ...</td>\n",
       "      <td>no credits taken/ all credits paid back duly</td>\n",
       "      <td>car (used)</td>\n",
       "      <td>...</td>\n",
       "      <td>... &lt; 1 year</td>\n",
       "      <td>male</td>\n",
       "      <td>married</td>\n",
       "      <td>none</td>\n",
       "      <td>if not A121/A122 : car or other, not in attrib...</td>\n",
       "      <td>stores</td>\n",
       "      <td>own</td>\n",
       "      <td>unemployed/ unskilled - non-resident</td>\n",
       "      <td>yes, registered under the customers name</td>\n",
       "      <td>yes</td>\n",
       "    </tr>\n",
       "    <tr>\n",
       "      <th>1</th>\n",
       "      <td>29.40221</td>\n",
       "      <td>6250.040039</td>\n",
       "      <td>2.965</td>\n",
       "      <td>3.106203</td>\n",
       "      <td>39.217937</td>\n",
       "      <td>1.608107</td>\n",
       "      <td>1.210832</td>\n",
       "      <td>&lt; 0 DM</td>\n",
       "      <td>existing credits paid back duly till now</td>\n",
       "      <td>business</td>\n",
       "      <td>...</td>\n",
       "      <td>unemployed</td>\n",
       "      <td>male</td>\n",
       "      <td>single</td>\n",
       "      <td>none</td>\n",
       "      <td>if not A121/A122 : car or other, not in attrib...</td>\n",
       "      <td>stores</td>\n",
       "      <td>rent</td>\n",
       "      <td>skilled employee / official</td>\n",
       "      <td>yes, registered under the customers name</td>\n",
       "      <td>yes</td>\n",
       "    </tr>\n",
       "    <tr>\n",
       "      <th>2</th>\n",
       "      <td>28.454287</td>\n",
       "      <td>3692.602539</td>\n",
       "      <td>3.634714</td>\n",
       "      <td>2.851266</td>\n",
       "      <td>41.522457</td>\n",
       "      <td>1.41125</td>\n",
       "      <td>1.44461</td>\n",
       "      <td>&gt;= 200 DM / salary assignments for at least 1 ...</td>\n",
       "      <td>existing credits paid back duly till now</td>\n",
       "      <td>education</td>\n",
       "      <td>...</td>\n",
       "      <td>... &lt; 1 year</td>\n",
       "      <td>male</td>\n",
       "      <td>married</td>\n",
       "      <td>none</td>\n",
       "      <td>real estate</td>\n",
       "      <td>stores</td>\n",
       "      <td>rent</td>\n",
       "      <td>unemployed/ unskilled - non-resident</td>\n",
       "      <td>yes, registered under the customers name</td>\n",
       "      <td>yes</td>\n",
       "    </tr>\n",
       "    <tr>\n",
       "      <th>3</th>\n",
       "      <td>24.169325</td>\n",
       "      <td>4724.547852</td>\n",
       "      <td>3.145759</td>\n",
       "      <td>2.939918</td>\n",
       "      <td>45.098743</td>\n",
       "      <td>1.727704</td>\n",
       "      <td>1.14375</td>\n",
       "      <td>no checking account</td>\n",
       "      <td>existing credits paid back duly till now</td>\n",
       "      <td>repairs</td>\n",
       "      <td>...</td>\n",
       "      <td>unemployed</td>\n",
       "      <td>male</td>\n",
       "      <td>married</td>\n",
       "      <td>guarantor</td>\n",
       "      <td>unknown / no property</td>\n",
       "      <td>none</td>\n",
       "      <td>own</td>\n",
       "      <td>unemployed/ unskilled - non-resident</td>\n",
       "      <td>yes, registered under the customers name</td>\n",
       "      <td>yes</td>\n",
       "    </tr>\n",
       "    <tr>\n",
       "      <th>4</th>\n",
       "      <td>21.094999</td>\n",
       "      <td>6209.333984</td>\n",
       "      <td>2.965</td>\n",
       "      <td>3.599075</td>\n",
       "      <td>40.670624</td>\n",
       "      <td>1.652549</td>\n",
       "      <td>1.49277</td>\n",
       "      <td>&lt; 0 DM</td>\n",
       "      <td>critical account/ other credits existing (not ...</td>\n",
       "      <td>business</td>\n",
       "      <td>...</td>\n",
       "      <td>1 &lt;= ... &lt; 4 years</td>\n",
       "      <td>male</td>\n",
       "      <td>single</td>\n",
       "      <td>none</td>\n",
       "      <td>unknown / no property</td>\n",
       "      <td>stores</td>\n",
       "      <td>own</td>\n",
       "      <td>unemployed/ unskilled - non-resident</td>\n",
       "      <td>yes, registered under the customers name</td>\n",
       "      <td>yes</td>\n",
       "    </tr>\n",
       "  </tbody>\n",
       "</table>\n",
       "<p>5 rows × 21 columns</p>\n",
       "</div>"
      ],
      "text/plain": [
       "  duration_in_month credit_amount installment_as_income_perc  \\\n",
       "0         26.040852   6192.719727                   3.470423   \n",
       "1          29.40221   6250.040039                      2.965   \n",
       "2         28.454287   3692.602539                   3.634714   \n",
       "3         24.169325   4724.547852                   3.145759   \n",
       "4         21.094999   6209.333984                      2.965   \n",
       "\n",
       "  present_residence_since        age credits_this_bank  \\\n",
       "0                 3.16732  37.449894          1.906232   \n",
       "1                3.106203  39.217937          1.608107   \n",
       "2                2.851266  41.522457           1.41125   \n",
       "3                2.939918  45.098743          1.727704   \n",
       "4                3.599075  40.670624          1.652549   \n",
       "\n",
       "  people_under_maintenance                               account_check_status  \\\n",
       "0                  1.25611  >= 200 DM / salary assignments for at least 1 ...   \n",
       "1                 1.210832                                             < 0 DM   \n",
       "2                  1.44461  >= 200 DM / salary assignments for at least 1 ...   \n",
       "3                  1.14375                                no checking account   \n",
       "4                  1.49277                                             < 0 DM   \n",
       "\n",
       "                                      credit_history     purpose  ...  \\\n",
       "0       no credits taken/ all credits paid back duly  car (used)  ...   \n",
       "1           existing credits paid back duly till now    business  ...   \n",
       "2           existing credits paid back duly till now   education  ...   \n",
       "3           existing credits paid back duly till now     repairs  ...   \n",
       "4  critical account/ other credits existing (not ...    business  ...   \n",
       "\n",
       "  present_employment_since   sex personal_status other_debtors  \\\n",
       "0             ... < 1 year  male         married          none   \n",
       "1               unemployed  male          single          none   \n",
       "2             ... < 1 year  male         married          none   \n",
       "3               unemployed  male         married     guarantor   \n",
       "4       1 <= ... < 4 years  male          single          none   \n",
       "\n",
       "                                            property other_installment_plans  \\\n",
       "0  if not A121/A122 : car or other, not in attrib...                  stores   \n",
       "1  if not A121/A122 : car or other, not in attrib...                  stores   \n",
       "2                                        real estate                  stores   \n",
       "3                              unknown / no property                    none   \n",
       "4                              unknown / no property                  stores   \n",
       "\n",
       "  housing                                   job  \\\n",
       "0     own  unemployed/ unskilled - non-resident   \n",
       "1    rent           skilled employee / official   \n",
       "2    rent  unemployed/ unskilled - non-resident   \n",
       "3     own  unemployed/ unskilled - non-resident   \n",
       "4     own  unemployed/ unskilled - non-resident   \n",
       "\n",
       "                                  telephone foreign_worker  \n",
       "0  yes, registered under the customers name            yes  \n",
       "1  yes, registered under the customers name            yes  \n",
       "2  yes, registered under the customers name            yes  \n",
       "3  yes, registered under the customers name            yes  \n",
       "4  yes, registered under the customers name            yes  \n",
       "\n",
       "[5 rows x 21 columns]"
      ]
     },
     "execution_count": 583,
     "metadata": {},
     "output_type": "execute_result"
    }
   ],
   "source": [
    "data.synthetic_df.head()"
   ]
  },
  {
   "attachments": {},
   "cell_type": "markdown",
   "metadata": {},
   "source": [
    "## Classification models\n",
    "\n",
    "With a view to assess the quality of the generated samples, we train 2 classifiers. The first one is trained on the original data whereas the second one is trained on the augmented dataset. Note the latter contains more default entries than the former. "
   ]
  },
  {
   "cell_type": "code",
   "execution_count": 587,
   "metadata": {},
   "outputs": [],
   "source": [
    "target_names = [\"No Default\", \"Default\"]\n",
    "\n",
    "clf = LogisticRegression()\n",
    "clf.fit(data.X_tr, data.y_tr)\n",
    "\n",
    "clf_report = get_clf_metrics(clf, data.X_tr, data.y_tr, data.X_te, data.y_te, target_names)"
   ]
  },
  {
   "cell_type": "code",
   "execution_count": 588,
   "metadata": {},
   "outputs": [],
   "source": [
    "X_tr_aug = np.concatenate([data.X_tr, data.X_syn])\n",
    "y_syn = np.ones(data.X_syn.shape[0])\n",
    "y_tr_aug = np.concatenate([data.y_tr, y_syn])\n",
    "\n",
    "clf_aug = LogisticRegression()\n",
    "clf_aug.fit(X_tr_aug, y_tr_aug) \n",
    "\n",
    "clf_aug_report = get_clf_metrics(clf_aug, X_tr_aug, y_tr_aug, data.X_te, data.y_te, target_names)"
   ]
  },
  {
   "cell_type": "code",
   "execution_count": 589,
   "metadata": {},
   "outputs": [
    {
     "data": {
      "text/html": [
       "<pre style=\"white-space:pre;overflow-x:auto;line-height:normal;font-family:Menlo,'DejaVu Sans Mono',consolas,'Courier New',monospace\"><span style=\"font-style: italic\">              Classification Report (train)              </span>\n",
       "┏━━━━━━━━━━━━━━━━━━━━━━┳━━━━━━━━━━━━━━━┳━━━━━━━━━━━━━━━━┓\n",
       "┃<span style=\"font-weight: bold\"> Metric               </span>┃<span style=\"font-weight: bold\"> Original Data </span>┃<span style=\"font-weight: bold\"> Augmented Data </span>┃\n",
       "┡━━━━━━━━━━━━━━━━━━━━━━╇━━━━━━━━━━━━━━━╇━━━━━━━━━━━━━━━━┩\n",
       "│ No Default precision │ 0.809         │ 0.806          │\n",
       "│ No Default recall    │ 0.893         │ 0.893          │\n",
       "│ No Default f1-score  │ 0.849         │ 0.847          │\n",
       "│ Default precision    │ 0.672         │ 0.783          │\n",
       "│ Default recall       │ 0.51          │ 0.644          │\n",
       "│ Default f1-score     │ 0.58          │ 0.707          │\n",
       "│ accuracy             │ 0.777         │ 0.777          │\n",
       "└──────────────────────┴───────────────┴────────────────┘\n",
       "</pre>\n"
      ],
      "text/plain": [
       "\u001b[3m              Classification Report (train)              \u001b[0m\n",
       "┏━━━━━━━━━━━━━━━━━━━━━━┳━━━━━━━━━━━━━━━┳━━━━━━━━━━━━━━━━┓\n",
       "┃\u001b[1m \u001b[0m\u001b[1mMetric              \u001b[0m\u001b[1m \u001b[0m┃\u001b[1m \u001b[0m\u001b[1mOriginal Data\u001b[0m\u001b[1m \u001b[0m┃\u001b[1m \u001b[0m\u001b[1mAugmented Data\u001b[0m\u001b[1m \u001b[0m┃\n",
       "┡━━━━━━━━━━━━━━━━━━━━━━╇━━━━━━━━━━━━━━━╇━━━━━━━━━━━━━━━━┩\n",
       "│ No Default precision │ 0.809         │ 0.806          │\n",
       "│ No Default recall    │ 0.893         │ 0.893          │\n",
       "│ No Default f1-score  │ 0.849         │ 0.847          │\n",
       "│ Default precision    │ 0.672         │ 0.783          │\n",
       "│ Default recall       │ 0.51          │ 0.644          │\n",
       "│ Default f1-score     │ 0.58          │ 0.707          │\n",
       "│ accuracy             │ 0.777         │ 0.777          │\n",
       "└──────────────────────┴───────────────┴────────────────┘\n"
      ]
     },
     "metadata": {},
     "output_type": "display_data"
    },
    {
     "data": {
      "text/html": [
       "<pre style=\"white-space:pre;overflow-x:auto;line-height:normal;font-family:Menlo,'DejaVu Sans Mono',consolas,'Courier New',monospace\"><span style=\"font-style: italic\">              Classification Report (test)               </span>\n",
       "┏━━━━━━━━━━━━━━━━━━━━━━┳━━━━━━━━━━━━━━━┳━━━━━━━━━━━━━━━━┓\n",
       "┃<span style=\"font-weight: bold\"> Metric               </span>┃<span style=\"font-weight: bold\"> Original Data </span>┃<span style=\"font-weight: bold\"> Augmented Data </span>┃\n",
       "┡━━━━━━━━━━━━━━━━━━━━━━╇━━━━━━━━━━━━━━━╇━━━━━━━━━━━━━━━━┩\n",
       "│ No Default precision │ 0.825         │ 0.817          │\n",
       "│ No Default recall    │ 0.901         │ 0.887          │\n",
       "│ No Default f1-score  │ 0.861         │ 0.85           │\n",
       "│ Default precision    │ 0.696         │ 0.66           │\n",
       "│ Default recall       │ 0.542         │ 0.525          │\n",
       "│ Default f1-score     │ 0.61          │ 0.585          │\n",
       "│ accuracy             │ 0.795         │ 0.795          │\n",
       "└──────────────────────┴───────────────┴────────────────┘\n",
       "</pre>\n"
      ],
      "text/plain": [
       "\u001b[3m              Classification Report (test)               \u001b[0m\n",
       "┏━━━━━━━━━━━━━━━━━━━━━━┳━━━━━━━━━━━━━━━┳━━━━━━━━━━━━━━━━┓\n",
       "┃\u001b[1m \u001b[0m\u001b[1mMetric              \u001b[0m\u001b[1m \u001b[0m┃\u001b[1m \u001b[0m\u001b[1mOriginal Data\u001b[0m\u001b[1m \u001b[0m┃\u001b[1m \u001b[0m\u001b[1mAugmented Data\u001b[0m\u001b[1m \u001b[0m┃\n",
       "┡━━━━━━━━━━━━━━━━━━━━━━╇━━━━━━━━━━━━━━━╇━━━━━━━━━━━━━━━━┩\n",
       "│ No Default precision │ 0.825         │ 0.817          │\n",
       "│ No Default recall    │ 0.901         │ 0.887          │\n",
       "│ No Default f1-score  │ 0.861         │ 0.85           │\n",
       "│ Default precision    │ 0.696         │ 0.66           │\n",
       "│ Default recall       │ 0.542         │ 0.525          │\n",
       "│ Default f1-score     │ 0.61          │ 0.585          │\n",
       "│ accuracy             │ 0.795         │ 0.795          │\n",
       "└──────────────────────┴───────────────┴────────────────┘\n"
      ]
     },
     "metadata": {},
     "output_type": "display_data"
    }
   ],
   "source": [
    "display_clf_metrics(clf_report, clf_aug_report)"
   ]
  },
  {
   "cell_type": "code",
   "execution_count": null,
   "metadata": {},
   "outputs": [],
   "source": []
  }
 ],
 "metadata": {
  "kernelspec": {
   "display_name": "env",
   "language": "python",
   "name": "python3"
  },
  "language_info": {
   "codemirror_mode": {
    "name": "ipython",
    "version": 3
   },
   "file_extension": ".py",
   "mimetype": "text/x-python",
   "name": "python",
   "nbconvert_exporter": "python",
   "pygments_lexer": "ipython3",
   "version": "3.9.9"
  },
  "orig_nbformat": 4
 },
 "nbformat": 4,
 "nbformat_minor": 2
}
