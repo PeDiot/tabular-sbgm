{
 "cells": [
  {
   "attachments": {},
   "cell_type": "markdown",
   "metadata": {},
   "source": [
    "# Tabular data augmentation with score-based generative models \n",
    "\n",
    "The selected dataset is the [Default Payments of Credit Card Clients](https://www.kaggle.com/datasets/uciml/default-of-credit-card-clients-dataset) which contains information on default payments, demographic factors, credit data, history of payment, and bill statements of credit card clients in Taiwan from April 2005 to September 2005. This dataset is usually used in classification models in order to build payment default scoring models. \n",
    "\n",
    "However, the imbalanced class issue can make it difficult to build a scorer which correctly detects default payments. One solution to this problem is to synthetically generate data to increase the number of default payments. For this purpose we use **score-based generative modeling with multiple noise perturbations**. The main idea is to represent a distribution by modeling its score function, which can be estimated by training a score-based model of free-form architectures with score matching.\n",
    "\n",
    "It consists in two steps: \n",
    "\n",
    "1. Learn score functions using **gradients of log probability density functions** on a large number of noise-perturbed data distributions\n",
    "2. Generate samples with **Langevin-type sampling**"
   ]
  },
  {
   "attachments": {},
   "cell_type": "markdown",
   "metadata": {},
   "source": [
    "## ToDo\n",
    "\n",
    "- Use other NN architectures (CNN) \n",
    "- Test VAE using `dta` library\n",
    "- Methods to assess synthetic data quality"
   ]
  },
  {
   "attachments": {},
   "cell_type": "markdown",
   "metadata": {},
   "source": [
    "## Setup"
   ]
  },
  {
   "cell_type": "code",
   "execution_count": 79,
   "metadata": {},
   "outputs": [
    {
     "name": "stdout",
     "output_type": "stream",
     "text": [
      "The autoreload extension is already loaded. To reload it, use:\n",
      "  %reload_ext autoreload\n"
     ]
    }
   ],
   "source": [
    "%load_ext autoreload\n",
    "%autoreload 2"
   ]
  },
  {
   "cell_type": "code",
   "execution_count": 265,
   "metadata": {},
   "outputs": [
    {
     "data": {
      "text/plain": [
       "0"
      ]
     },
     "execution_count": 265,
     "metadata": {},
     "output_type": "execute_result"
    }
   ],
   "source": [
    "import gc \n",
    "\n",
    "gc.collect()"
   ]
  },
  {
   "cell_type": "code",
   "execution_count": 312,
   "metadata": {},
   "outputs": [],
   "source": [
    "import pandas as pd\n",
    "import numpy as np \n",
    "\n",
    "from tqdm.notebook import tqdm\n",
    "\n",
    "from sklearn.linear_model import LogisticRegression\n",
    "\n",
    "import sdv.evaluation.single_table as sdv_eval\n",
    "from sdv.single_table import (\n",
    "    GaussianCopulaSynthesizer,\n",
    "    CTGANSynthesizer, \n",
    "    TVAESynthesizer\n",
    ")"
   ]
  },
  {
   "cell_type": "code",
   "execution_count": 267,
   "metadata": {},
   "outputs": [],
   "source": [
    "pd.set_option(\"display.max_columns\", None)"
   ]
  },
  {
   "cell_type": "code",
   "execution_count": 268,
   "metadata": {},
   "outputs": [],
   "source": [
    "from src.utils import (\n",
    "    load_config, \n",
    "    load_pickle, \n",
    "    get_clf_metrics, \n",
    "    display_clf_metrics, \n",
    "    make_sdv_metadata\n",
    ")\n",
    "from src.data import Data\n",
    "from src.runner.scorenet_runner import ScoreNetRunner\n",
    "from src.runner.anneal_runner import AnnealRunner"
   ]
  },
  {
   "attachments": {},
   "cell_type": "markdown",
   "metadata": {},
   "source": [
    "## Load original data"
   ]
  },
  {
   "cell_type": "code",
   "execution_count": 269,
   "metadata": {},
   "outputs": [
    {
     "data": {
      "text/html": [
       "<div>\n",
       "<style scoped>\n",
       "    .dataframe tbody tr th:only-of-type {\n",
       "        vertical-align: middle;\n",
       "    }\n",
       "\n",
       "    .dataframe tbody tr th {\n",
       "        vertical-align: top;\n",
       "    }\n",
       "\n",
       "    .dataframe thead th {\n",
       "        text-align: right;\n",
       "    }\n",
       "</style>\n",
       "<table border=\"1\" class=\"dataframe\">\n",
       "  <thead>\n",
       "    <tr style=\"text-align: right;\">\n",
       "      <th></th>\n",
       "      <th>limit_bal</th>\n",
       "      <th>sex</th>\n",
       "      <th>education</th>\n",
       "      <th>marriage</th>\n",
       "      <th>age</th>\n",
       "      <th>pay_0</th>\n",
       "      <th>pay_2</th>\n",
       "      <th>pay_3</th>\n",
       "      <th>pay_4</th>\n",
       "      <th>pay_5</th>\n",
       "      <th>pay_6</th>\n",
       "      <th>bill_amt1</th>\n",
       "      <th>bill_amt2</th>\n",
       "      <th>bill_amt3</th>\n",
       "      <th>bill_amt4</th>\n",
       "      <th>bill_amt5</th>\n",
       "      <th>bill_amt6</th>\n",
       "      <th>pay_amt1</th>\n",
       "      <th>pay_amt2</th>\n",
       "      <th>pay_amt3</th>\n",
       "      <th>pay_amt4</th>\n",
       "      <th>pay_amt5</th>\n",
       "      <th>pay_amt6</th>\n",
       "      <th>default_payment_next_month</th>\n",
       "    </tr>\n",
       "  </thead>\n",
       "  <tbody>\n",
       "    <tr>\n",
       "      <th>0</th>\n",
       "      <td>20000.0</td>\n",
       "      <td>2</td>\n",
       "      <td>2</td>\n",
       "      <td>1</td>\n",
       "      <td>24</td>\n",
       "      <td>2</td>\n",
       "      <td>2</td>\n",
       "      <td>-1</td>\n",
       "      <td>-1</td>\n",
       "      <td>-2</td>\n",
       "      <td>-2</td>\n",
       "      <td>3913.0</td>\n",
       "      <td>3102.0</td>\n",
       "      <td>689.0</td>\n",
       "      <td>0.0</td>\n",
       "      <td>0.0</td>\n",
       "      <td>0.0</td>\n",
       "      <td>0.0</td>\n",
       "      <td>689.0</td>\n",
       "      <td>0.0</td>\n",
       "      <td>0.0</td>\n",
       "      <td>0.0</td>\n",
       "      <td>0.0</td>\n",
       "      <td>1</td>\n",
       "    </tr>\n",
       "    <tr>\n",
       "      <th>1</th>\n",
       "      <td>120000.0</td>\n",
       "      <td>2</td>\n",
       "      <td>2</td>\n",
       "      <td>2</td>\n",
       "      <td>26</td>\n",
       "      <td>-1</td>\n",
       "      <td>2</td>\n",
       "      <td>0</td>\n",
       "      <td>0</td>\n",
       "      <td>0</td>\n",
       "      <td>2</td>\n",
       "      <td>2682.0</td>\n",
       "      <td>1725.0</td>\n",
       "      <td>2682.0</td>\n",
       "      <td>3272.0</td>\n",
       "      <td>3455.0</td>\n",
       "      <td>3261.0</td>\n",
       "      <td>0.0</td>\n",
       "      <td>1000.0</td>\n",
       "      <td>1000.0</td>\n",
       "      <td>1000.0</td>\n",
       "      <td>0.0</td>\n",
       "      <td>2000.0</td>\n",
       "      <td>1</td>\n",
       "    </tr>\n",
       "    <tr>\n",
       "      <th>2</th>\n",
       "      <td>90000.0</td>\n",
       "      <td>2</td>\n",
       "      <td>2</td>\n",
       "      <td>2</td>\n",
       "      <td>34</td>\n",
       "      <td>0</td>\n",
       "      <td>0</td>\n",
       "      <td>0</td>\n",
       "      <td>0</td>\n",
       "      <td>0</td>\n",
       "      <td>0</td>\n",
       "      <td>29239.0</td>\n",
       "      <td>14027.0</td>\n",
       "      <td>13559.0</td>\n",
       "      <td>14331.0</td>\n",
       "      <td>14948.0</td>\n",
       "      <td>15549.0</td>\n",
       "      <td>1518.0</td>\n",
       "      <td>1500.0</td>\n",
       "      <td>1000.0</td>\n",
       "      <td>1000.0</td>\n",
       "      <td>1000.0</td>\n",
       "      <td>5000.0</td>\n",
       "      <td>0</td>\n",
       "    </tr>\n",
       "    <tr>\n",
       "      <th>3</th>\n",
       "      <td>50000.0</td>\n",
       "      <td>2</td>\n",
       "      <td>2</td>\n",
       "      <td>1</td>\n",
       "      <td>37</td>\n",
       "      <td>0</td>\n",
       "      <td>0</td>\n",
       "      <td>0</td>\n",
       "      <td>0</td>\n",
       "      <td>0</td>\n",
       "      <td>0</td>\n",
       "      <td>46990.0</td>\n",
       "      <td>48233.0</td>\n",
       "      <td>49291.0</td>\n",
       "      <td>28314.0</td>\n",
       "      <td>28959.0</td>\n",
       "      <td>29547.0</td>\n",
       "      <td>2000.0</td>\n",
       "      <td>2019.0</td>\n",
       "      <td>1200.0</td>\n",
       "      <td>1100.0</td>\n",
       "      <td>1069.0</td>\n",
       "      <td>1000.0</td>\n",
       "      <td>0</td>\n",
       "    </tr>\n",
       "    <tr>\n",
       "      <th>4</th>\n",
       "      <td>50000.0</td>\n",
       "      <td>1</td>\n",
       "      <td>2</td>\n",
       "      <td>1</td>\n",
       "      <td>57</td>\n",
       "      <td>-1</td>\n",
       "      <td>0</td>\n",
       "      <td>-1</td>\n",
       "      <td>0</td>\n",
       "      <td>0</td>\n",
       "      <td>0</td>\n",
       "      <td>8617.0</td>\n",
       "      <td>5670.0</td>\n",
       "      <td>35835.0</td>\n",
       "      <td>20940.0</td>\n",
       "      <td>19146.0</td>\n",
       "      <td>19131.0</td>\n",
       "      <td>2000.0</td>\n",
       "      <td>36681.0</td>\n",
       "      <td>10000.0</td>\n",
       "      <td>9000.0</td>\n",
       "      <td>689.0</td>\n",
       "      <td>679.0</td>\n",
       "      <td>0</td>\n",
       "    </tr>\n",
       "  </tbody>\n",
       "</table>\n",
       "</div>"
      ],
      "text/plain": [
       "   limit_bal  sex  education  marriage  age  pay_0  pay_2  pay_3  pay_4  \\\n",
       "0    20000.0    2          2         1   24      2      2     -1     -1   \n",
       "1   120000.0    2          2         2   26     -1      2      0      0   \n",
       "2    90000.0    2          2         2   34      0      0      0      0   \n",
       "3    50000.0    2          2         1   37      0      0      0      0   \n",
       "4    50000.0    1          2         1   57     -1      0     -1      0   \n",
       "\n",
       "   pay_5  pay_6  bill_amt1  bill_amt2  bill_amt3  bill_amt4  bill_amt5  \\\n",
       "0     -2     -2     3913.0     3102.0      689.0        0.0        0.0   \n",
       "1      0      2     2682.0     1725.0     2682.0     3272.0     3455.0   \n",
       "2      0      0    29239.0    14027.0    13559.0    14331.0    14948.0   \n",
       "3      0      0    46990.0    48233.0    49291.0    28314.0    28959.0   \n",
       "4      0      0     8617.0     5670.0    35835.0    20940.0    19146.0   \n",
       "\n",
       "   bill_amt6  pay_amt1  pay_amt2  pay_amt3  pay_amt4  pay_amt5  pay_amt6  \\\n",
       "0        0.0       0.0     689.0       0.0       0.0       0.0       0.0   \n",
       "1     3261.0       0.0    1000.0    1000.0    1000.0       0.0    2000.0   \n",
       "2    15549.0    1518.0    1500.0    1000.0    1000.0    1000.0    5000.0   \n",
       "3    29547.0    2000.0    2019.0    1200.0    1100.0    1069.0    1000.0   \n",
       "4    19131.0    2000.0   36681.0   10000.0    9000.0     689.0     679.0   \n",
       "\n",
       "   default_payment_next_month  \n",
       "0                           1  \n",
       "1                           1  \n",
       "2                           0  \n",
       "3                           0  \n",
       "4                           0  "
      ]
     },
     "execution_count": 269,
     "metadata": {},
     "output_type": "execute_result"
    }
   ],
   "source": [
    "df = pd.read_csv(\"datasets/taiwan_payment.csv\")\n",
    "\n",
    "df.columns = df.columns.map(lambda col: col.replace(\".\", \"_\").lower())\n",
    "df.drop(columns=[\"id\"], inplace=True)\n",
    "\n",
    "df.head()"
   ]
  },
  {
   "cell_type": "code",
   "execution_count": 270,
   "metadata": {},
   "outputs": [
    {
     "name": "stdout",
     "output_type": "stream",
     "text": [
      "<class 'pandas.core.frame.DataFrame'>\n",
      "RangeIndex: 30000 entries, 0 to 29999\n",
      "Data columns (total 24 columns):\n",
      " #   Column                      Non-Null Count  Dtype  \n",
      "---  ------                      --------------  -----  \n",
      " 0   limit_bal                   30000 non-null  float64\n",
      " 1   sex                         30000 non-null  int64  \n",
      " 2   education                   30000 non-null  int64  \n",
      " 3   marriage                    30000 non-null  int64  \n",
      " 4   age                         30000 non-null  int64  \n",
      " 5   pay_0                       30000 non-null  int64  \n",
      " 6   pay_2                       30000 non-null  int64  \n",
      " 7   pay_3                       30000 non-null  int64  \n",
      " 8   pay_4                       30000 non-null  int64  \n",
      " 9   pay_5                       30000 non-null  int64  \n",
      " 10  pay_6                       30000 non-null  int64  \n",
      " 11  bill_amt1                   30000 non-null  float64\n",
      " 12  bill_amt2                   30000 non-null  float64\n",
      " 13  bill_amt3                   30000 non-null  float64\n",
      " 14  bill_amt4                   30000 non-null  float64\n",
      " 15  bill_amt5                   30000 non-null  float64\n",
      " 16  bill_amt6                   30000 non-null  float64\n",
      " 17  pay_amt1                    30000 non-null  float64\n",
      " 18  pay_amt2                    30000 non-null  float64\n",
      " 19  pay_amt3                    30000 non-null  float64\n",
      " 20  pay_amt4                    30000 non-null  float64\n",
      " 21  pay_amt5                    30000 non-null  float64\n",
      " 22  pay_amt6                    30000 non-null  float64\n",
      " 23  default_payment_next_month  30000 non-null  int64  \n",
      "dtypes: float64(13), int64(11)\n",
      "memory usage: 5.5 MB\n",
      "None\n"
     ]
    }
   ],
   "source": [
    "print(df.info())"
   ]
  },
  {
   "cell_type": "code",
   "execution_count": 271,
   "metadata": {},
   "outputs": [
    {
     "data": {
      "text/plain": [
       "0    0.7788\n",
       "1    0.2212\n",
       "Name: default_payment_next_month, dtype: float64"
      ]
     },
     "execution_count": 271,
     "metadata": {},
     "output_type": "execute_result"
    }
   ],
   "source": [
    "df[\"default_payment_next_month\"].value_counts(normalize=True, dropna=False)"
   ]
  },
  {
   "cell_type": "code",
   "execution_count": 272,
   "metadata": {},
   "outputs": [],
   "source": [
    "df_default = df[df[\"default_payment_next_month\"] == 1]\n",
    "df_default.drop(columns=[\"default_payment_next_month\"], inplace=True)"
   ]
  },
  {
   "attachments": {},
   "cell_type": "markdown",
   "metadata": {},
   "source": [
    "Entries which have defaulted on their credit only account for 22% of the entire dataset. We thus focus the generative process on these samples. "
   ]
  },
  {
   "attachments": {},
   "cell_type": "markdown",
   "metadata": {},
   "source": [
    "## Data preparation"
   ]
  },
  {
   "cell_type": "code",
   "execution_count": 378,
   "metadata": {},
   "outputs": [],
   "source": [
    "CFG_TYPE = \"scorenet\"                           # \"scorenet\" or \"anneal\"\n",
    "cfg = load_config(f\"configs/{CFG_TYPE}.yaml\") "
   ]
  },
  {
   "cell_type": "code",
   "execution_count": 379,
   "metadata": {},
   "outputs": [
    {
     "name": "stdout",
     "output_type": "stream",
     "text": [
      "Data(target=default_payment_next_month, classification=True, reference=1, test_prop=0.2, batch_size=64, n_batches=375)\n"
     ]
    }
   ],
   "source": [
    "data = Data(cfg[\"data\"])\n",
    "\n",
    "data.preprocess(df)\n",
    "data.make_loaders()\n",
    "\n",
    "print(data) "
   ]
  },
  {
   "attachments": {},
   "cell_type": "markdown",
   "metadata": {},
   "source": [
    "## Train generator\n",
    "\n",
    "The loss function used to train the score-based generator depends on the `algo` argument entered in [`config`](configs/): \n",
    "\n",
    "- `dsm` means we use the denoising score matching objective as loss function\n",
    "- `ssm` means we use sliced score matching objective to greatly scale up the computation of score matching. \n",
    "\n",
    "One can also choose to add multiple noise perturbations with the [`anneal`](configs/anneal.yaml) configuration.\n",
    "\n",
    "More details can be found [here](https://yang-song.net/blog/2019/ssm/). "
   ]
  },
  {
   "cell_type": "code",
   "execution_count": 380,
   "metadata": {},
   "outputs": [],
   "source": [
    "if CFG_TYPE == \"scorenet\":\n",
    "    runner = ScoreNetRunner(cfg, data)\n",
    "\n",
    "elif CFG_TYPE == \"anneal\":\n",
    "    runner = AnnealRunner(cfg, data) \n",
    "\n",
    "if cfg[\"mode\"] == \"train\":\n",
    "    loss_tracker = runner.train()\n",
    "\n",
    "elif cfg[\"mode\"] == \"eval\":\n",
    "    loss_tracker = load_pickle(f\"{cfg['backup']['dir']}/loss.pkl\")"
   ]
  },
  {
   "cell_type": "code",
   "execution_count": 381,
   "metadata": {},
   "outputs": [
    {
     "data": {
      "image/png": "[encoded data removed]",
      "text/plain": [
       "<Figure size 900x500 with 1 Axes>"
      ]
     },
     "metadata": {},
     "output_type": "display_data"
    }
   ],
   "source": [
    "pd.DataFrame(loss_tracker).plot(figsize=(9, 5), title=f\"Score-matching loss over epochs ({CFG_TYPE})\"); "
   ]
  },
  {
   "attachments": {},
   "cell_type": "markdown",
   "metadata": {},
   "source": [
    "## Generate new samples\n",
    "\n",
    "Once the score-based model trained, we can use an iterative procedure called Langevin dynamics to draw samples from it. Langevin dynamics provides an MCMC procedure to sample from a distribution using only its score function."
   ]
  },
  {
   "cell_type": "code",
   "execution_count": 382,
   "metadata": {},
   "outputs": [
    {
     "data": {
      "application/vnd.jupyter.widget-view+json": {
       "model_id": "a28cdf525329418788cf2654c7f4f31c",
       "version_major": 2,
       "version_minor": 0
      },
      "text/plain": [
       "Generating 100 batches with 64 samples each using Langevin dynamics.:   0%|          | 0/100 [00:00<?, ?it/s]"
      ]
     },
     "metadata": {},
     "output_type": "display_data"
    },
    {
     "data": {
      "text/plain": [
       "torch.Size([6400, 30])"
      ]
     },
     "execution_count": 382,
     "metadata": {},
     "output_type": "execute_result"
    }
   ],
   "source": [
    "synthetic_samples = runner.sample(n_batches=100)\n",
    "synthetic_samples.shape"
   ]
  },
  {
   "cell_type": "code",
   "execution_count": 383,
   "metadata": {},
   "outputs": [],
   "source": [
    "data.generate(synthetic_samples)"
   ]
  },
  {
   "cell_type": "code",
   "execution_count": 256,
   "metadata": {},
   "outputs": [
    {
     "data": {
      "text/html": [
       "<div>\n",
       "<style scoped>\n",
       "    .dataframe tbody tr th:only-of-type {\n",
       "        vertical-align: middle;\n",
       "    }\n",
       "\n",
       "    .dataframe tbody tr th {\n",
       "        vertical-align: top;\n",
       "    }\n",
       "\n",
       "    .dataframe thead th {\n",
       "        text-align: right;\n",
       "    }\n",
       "</style>\n",
       "<table border=\"1\" class=\"dataframe\">\n",
       "  <thead>\n",
       "    <tr style=\"text-align: right;\">\n",
       "      <th></th>\n",
       "      <th>limit_bal</th>\n",
       "      <th>age</th>\n",
       "      <th>pay_0</th>\n",
       "      <th>pay_2</th>\n",
       "      <th>pay_3</th>\n",
       "      <th>pay_4</th>\n",
       "      <th>pay_5</th>\n",
       "      <th>pay_6</th>\n",
       "      <th>bill_amt1</th>\n",
       "      <th>bill_amt2</th>\n",
       "      <th>bill_amt3</th>\n",
       "      <th>bill_amt4</th>\n",
       "      <th>bill_amt5</th>\n",
       "      <th>bill_amt6</th>\n",
       "      <th>pay_amt1</th>\n",
       "      <th>pay_amt2</th>\n",
       "      <th>pay_amt3</th>\n",
       "      <th>pay_amt4</th>\n",
       "      <th>pay_amt5</th>\n",
       "      <th>pay_amt6</th>\n",
       "      <th>sex</th>\n",
       "      <th>education</th>\n",
       "      <th>marriage</th>\n",
       "    </tr>\n",
       "  </thead>\n",
       "  <tbody>\n",
       "    <tr>\n",
       "      <th>0</th>\n",
       "      <td>-6581738.00</td>\n",
       "      <td>-572.757874</td>\n",
       "      <td>0.478154</td>\n",
       "      <td>125.135750</td>\n",
       "      <td>182.971130</td>\n",
       "      <td>67.081230</td>\n",
       "      <td>-84.145615</td>\n",
       "      <td>-2.535984</td>\n",
       "      <td>13823098.00</td>\n",
       "      <td>1614735.0</td>\n",
       "      <td>-4.760313e+04</td>\n",
       "      <td>-3.543278e+06</td>\n",
       "      <td>-4.081441e+05</td>\n",
       "      <td>1639361.75</td>\n",
       "      <td>-1.627995e+06</td>\n",
       "      <td>-2.306457e+06</td>\n",
       "      <td>1.067700e+06</td>\n",
       "      <td>1.188492e+06</td>\n",
       "      <td>-9.233039e+05</td>\n",
       "      <td>2674111.50</td>\n",
       "      <td>2.0</td>\n",
       "      <td>3.0</td>\n",
       "      <td>3.0</td>\n",
       "    </tr>\n",
       "    <tr>\n",
       "      <th>1</th>\n",
       "      <td>-3750862.25</td>\n",
       "      <td>1225.976562</td>\n",
       "      <td>-31.794752</td>\n",
       "      <td>60.322010</td>\n",
       "      <td>312.942261</td>\n",
       "      <td>84.981033</td>\n",
       "      <td>-240.056656</td>\n",
       "      <td>-110.099815</td>\n",
       "      <td>-4100705.00</td>\n",
       "      <td>11838650.0</td>\n",
       "      <td>1.055514e+06</td>\n",
       "      <td>-3.514893e+06</td>\n",
       "      <td>-1.504539e+06</td>\n",
       "      <td>-3585128.50</td>\n",
       "      <td>-8.686194e+04</td>\n",
       "      <td>-2.859341e+06</td>\n",
       "      <td>1.745990e+06</td>\n",
       "      <td>-1.687505e+05</td>\n",
       "      <td>-1.469779e+06</td>\n",
       "      <td>2488384.50</td>\n",
       "      <td>2.0</td>\n",
       "      <td>4.0</td>\n",
       "      <td>1.0</td>\n",
       "    </tr>\n",
       "    <tr>\n",
       "      <th>2</th>\n",
       "      <td>-4204146.00</td>\n",
       "      <td>-198.035568</td>\n",
       "      <td>167.207825</td>\n",
       "      <td>7.751224</td>\n",
       "      <td>260.450195</td>\n",
       "      <td>-39.795845</td>\n",
       "      <td>-267.621887</td>\n",
       "      <td>89.090790</td>\n",
       "      <td>7960726.00</td>\n",
       "      <td>14583100.0</td>\n",
       "      <td>4.004070e+06</td>\n",
       "      <td>-2.588000e+05</td>\n",
       "      <td>3.130032e+06</td>\n",
       "      <td>8023536.00</td>\n",
       "      <td>4.621853e+05</td>\n",
       "      <td>-2.858948e+04</td>\n",
       "      <td>-1.715928e+05</td>\n",
       "      <td>4.296018e+05</td>\n",
       "      <td>-4.983177e+05</td>\n",
       "      <td>2966503.50</td>\n",
       "      <td>2.0</td>\n",
       "      <td>4.0</td>\n",
       "      <td>3.0</td>\n",
       "    </tr>\n",
       "    <tr>\n",
       "      <th>3</th>\n",
       "      <td>-1666638.75</td>\n",
       "      <td>1603.976685</td>\n",
       "      <td>79.246155</td>\n",
       "      <td>118.909561</td>\n",
       "      <td>88.346016</td>\n",
       "      <td>113.287643</td>\n",
       "      <td>-135.802170</td>\n",
       "      <td>-43.118374</td>\n",
       "      <td>-2914941.75</td>\n",
       "      <td>16409981.0</td>\n",
       "      <td>-9.837735e+04</td>\n",
       "      <td>6.036682e+06</td>\n",
       "      <td>-1.336862e+06</td>\n",
       "      <td>4323587.00</td>\n",
       "      <td>-6.050822e+05</td>\n",
       "      <td>-2.930798e+06</td>\n",
       "      <td>-3.730612e+06</td>\n",
       "      <td>1.600188e+06</td>\n",
       "      <td>-4.110007e+05</td>\n",
       "      <td>5216235.00</td>\n",
       "      <td>2.0</td>\n",
       "      <td>4.0</td>\n",
       "      <td>3.0</td>\n",
       "    </tr>\n",
       "    <tr>\n",
       "      <th>4</th>\n",
       "      <td>-4027800.25</td>\n",
       "      <td>-197.731735</td>\n",
       "      <td>256.036682</td>\n",
       "      <td>29.838396</td>\n",
       "      <td>148.314041</td>\n",
       "      <td>166.187363</td>\n",
       "      <td>-169.053711</td>\n",
       "      <td>-104.455315</td>\n",
       "      <td>4084539.50</td>\n",
       "      <td>8223115.5</td>\n",
       "      <td>-5.046576e+06</td>\n",
       "      <td>-1.426519e+06</td>\n",
       "      <td>-1.053248e+06</td>\n",
       "      <td>2593524.75</td>\n",
       "      <td>-1.202467e+06</td>\n",
       "      <td>-1.020676e+06</td>\n",
       "      <td>-1.034135e+06</td>\n",
       "      <td>3.124198e+06</td>\n",
       "      <td>-4.064802e+05</td>\n",
       "      <td>2392879.75</td>\n",
       "      <td>2.0</td>\n",
       "      <td>4.0</td>\n",
       "      <td>3.0</td>\n",
       "    </tr>\n",
       "  </tbody>\n",
       "</table>\n",
       "</div>"
      ],
      "text/plain": [
       "    limit_bal          age       pay_0       pay_2       pay_3       pay_4  \\\n",
       "0 -6581738.00  -572.757874    0.478154  125.135750  182.971130   67.081230   \n",
       "1 -3750862.25  1225.976562  -31.794752   60.322010  312.942261   84.981033   \n",
       "2 -4204146.00  -198.035568  167.207825    7.751224  260.450195  -39.795845   \n",
       "3 -1666638.75  1603.976685   79.246155  118.909561   88.346016  113.287643   \n",
       "4 -4027800.25  -197.731735  256.036682   29.838396  148.314041  166.187363   \n",
       "\n",
       "        pay_5       pay_6    bill_amt1   bill_amt2     bill_amt3  \\\n",
       "0  -84.145615   -2.535984  13823098.00   1614735.0 -4.760313e+04   \n",
       "1 -240.056656 -110.099815  -4100705.00  11838650.0  1.055514e+06   \n",
       "2 -267.621887   89.090790   7960726.00  14583100.0  4.004070e+06   \n",
       "3 -135.802170  -43.118374  -2914941.75  16409981.0 -9.837735e+04   \n",
       "4 -169.053711 -104.455315   4084539.50   8223115.5 -5.046576e+06   \n",
       "\n",
       "      bill_amt4     bill_amt5   bill_amt6      pay_amt1      pay_amt2  \\\n",
       "0 -3.543278e+06 -4.081441e+05  1639361.75 -1.627995e+06 -2.306457e+06   \n",
       "1 -3.514893e+06 -1.504539e+06 -3585128.50 -8.686194e+04 -2.859341e+06   \n",
       "2 -2.588000e+05  3.130032e+06  8023536.00  4.621853e+05 -2.858948e+04   \n",
       "3  6.036682e+06 -1.336862e+06  4323587.00 -6.050822e+05 -2.930798e+06   \n",
       "4 -1.426519e+06 -1.053248e+06  2593524.75 -1.202467e+06 -1.020676e+06   \n",
       "\n",
       "       pay_amt3      pay_amt4      pay_amt5    pay_amt6  sex  education  \\\n",
       "0  1.067700e+06  1.188492e+06 -9.233039e+05  2674111.50  2.0        3.0   \n",
       "1  1.745990e+06 -1.687505e+05 -1.469779e+06  2488384.50  2.0        4.0   \n",
       "2 -1.715928e+05  4.296018e+05 -4.983177e+05  2966503.50  2.0        4.0   \n",
       "3 -3.730612e+06  1.600188e+06 -4.110007e+05  5216235.00  2.0        4.0   \n",
       "4 -1.034135e+06  3.124198e+06 -4.064802e+05  2392879.75  2.0        4.0   \n",
       "\n",
       "   marriage  \n",
       "0       3.0  \n",
       "1       1.0  \n",
       "2       3.0  \n",
       "3       3.0  \n",
       "4       3.0  "
      ]
     },
     "execution_count": 256,
     "metadata": {},
     "output_type": "execute_result"
    }
   ],
   "source": [
    "data.synthetic_df.head()"
   ]
  },
  {
   "attachments": {},
   "cell_type": "markdown",
   "metadata": {},
   "source": [
    "## Evaluate synthetic data quality\n",
    "\n",
    "The quality score is the average between two general scores which are `Column Pair Trends` and `Column Shapes`. \n",
    "\n",
    "**`Column Pair Trends`**\n",
    "\n",
    "It is the average between `ContingencySimilarity` and `CorrelationSimilarity` scores. \n",
    "\n",
    "For categorical variables, the score is `ContingencySimilarity` which computes the similarity of a pair of categorical columns between the real and synthetic datasets. For a pair of columns, $A$ and $B$, the test computes a normalized contingency table for the real and synthetic data. This table describes the proportion of rows that have each combination of categories in $A$ and $B$.\n",
    "Then, it computes the difference between the contingency tables using the Total Variation Distance. Finally, we subtract the distance from 1 to ensure that a high score means high similarity. \n",
    "\n",
    "$$\n",
    "s_{con} = 1 - \\frac{1}{2} \\sum_{\\alpha \\in A} \\sum_{\\beta \\in B} |S_{\\alpha, \\beta} - R_{\\alpha, \\beta}|\n",
    "$$\n",
    "\n",
    "where $\\alpha$ describes all the possible categories in column $A$ and $\\beta$ describes all the possible categories in column $B$. $R$ and $S$ refer to the real and synthetic frequencies for those categories.\n",
    "\n",
    "If the contingency table is exactly the same between the real vs. synthetic data, then $s_{cor}=1$. The more different the contingency tables, the closer $s_{con}$ to 0. \n",
    "\n",
    "For numerical variables, the score is `CorrelationSimilarity` measures the correlation between a pair of numerical columns and computes the similarity between the real and synthetic data. This metric supports both the Pearson and Spearman's rank coefficients to measure correlation. For a pair of columns, $A$ and $B$, this test computes a correlation coefficient on the real and synthetic data, $R$ and $S$. This yields two separate correlation values. The test normalizes and returns a similarity score using the formula below.\n",
    "\n",
    "$$\n",
    "s_{cor} = 1 - \\frac{1}{2} |S_{A, B} - R_{A, B}|\n",
    "$$\n",
    "\n",
    "The pairwise correlations of the real and synthetic data are exactly the same if $s_{cor} = 1$. The more different the pairwise correlations, the closer $s_{cor}$ to 0. \n",
    "\n",
    "**`Column Shapes`**\n",
    "\n",
    "This score is computed as the average between the `KSComplement` and `TVComplement` scores which computes the similarity of a real column vs. a synthetic column in terms of the column shapes (marginal distributions). \n",
    "\n",
    "The `KSComplement` score uses the Kolmogorov-Smirnov statistic to compare the distributions of the two continuous columns using the empirical CDF. It returns 1 minus the KS Test D statistic, which indicates the maximum distance between the expected CDF and the observed CDF values.\n",
    "\n",
    "`TVComplement` is the Total Variation Distance (TVD) between the real and synthetic columns. It first computes the frequency of each category value and expresses it as a probability. The TVD statistic compares the differences in probabilities, as shown in the formula below.\n",
    "\n",
    "$$\n",
    "\\delta(R, S) = \\frac{1}{2} \\sum_{\\omega \\in \\Omega} |R_{\\omega} - S_{\\omega}|\n",
    "$$\n",
    "\n",
    "where $\\omega$ describes all the possible categories in a column $\\Omega$. The `TVComplement` score is:\n",
    "\n",
    "$$\n",
    "s_{TV} = 1 - \\delta(R, S)\n",
    "$$"
   ]
  },
  {
   "cell_type": "code",
   "execution_count": 384,
   "metadata": {},
   "outputs": [],
   "source": [
    "metadata = make_sdv_metadata(data)\n",
    "\n",
    "real_data = df_default.copy()\n",
    "synthetic_data = data.synthetic_df.copy()"
   ]
  },
  {
   "cell_type": "code",
   "execution_count": 385,
   "metadata": {},
   "outputs": [
    {
     "name": "stderr",
     "output_type": "stream",
     "text": [
      "Creating report: 100%|██████████| 4/4 [00:08<00:00,  2.17s/it]\n"
     ]
    },
    {
     "name": "stdout",
     "output_type": "stream",
     "text": [
      "\n",
      "Overall Quality Score: 51.78%\n",
      "\n",
      "Properties:\n",
      "Column Shapes: 38.7%\n",
      "Column Pair Trends: 64.87%\n"
     ]
    }
   ],
   "source": [
    "quality_report = sdv_eval.evaluate_quality(\n",
    "    real_data=real_data,\n",
    "    synthetic_data=synthetic_data,\n",
    "    metadata=metadata)"
   ]
  },
  {
   "cell_type": "code",
   "execution_count": 300,
   "metadata": {},
   "outputs": [
    {
     "data": {
      "application/vnd.plotly.v1+json": {
       "config": {
        "plotlyServerURL": "https://plot.ly"
       },
       "data": [
        {
         "fill": "tozeroy",
         "hovertemplate": "<b>Real</b><br>Value: %{x}<br>Frequency: %{y}<extra></extra>",
         "legendgroup": "Real",
         "marker": {
          "color": "#000036"
         },
         "mode": "lines",
         "name": "Real",
         "showlegend": true,
         "type": "scatter",
         "x": [
          10000,
          11460,
          12920,
          14380,
          15840,
          17300,
          18760,
          20220,
          21680,
          23140,
          24600,
          26060,
          27520,
          28980,
          30440,
          31900,
          33360,
          34820,
          36280,
          37740,
          39200,
          40660,
          42120,
          43580,
          45040,
          46500,
          47960,
          49420,
          50880,
          52340,
          53800,
          55260,
          56720,
          58180,
          59640,
          61100,
          62560,
          64020,
          65480,
          66940,
          68400,
          69860,
          71320,
          72780,
          74240,
          75700,
          77160,
          78620,
          80080,
          81540,
          83000,
          84460,
          85920,
          87380,
          88840,
          90300,
          91760,
          93220,
          94680,
          96140,
          97600,
          99060,
          100520,
          101980,
          103440,
          104900,
          106360,
          107820,
          109280,
          110740,
          112200,
          113660,
          115120,
          116580,
          118040,
          119500,
          120960,
          122420,
          123880,
          125340,
          126800,
          128260,
          129720,
          131180,
          132640,
          134100,
          135560,
          137020,
          138480,
          139940,
          141400,
          142860,
          144320,
          145780,
          147240,
          148700,
          150160,
          151620,
          153080,
          154540,
          156000,
          157460,
          158920,
          160380,
          161840,
          163300,
          164760,
          166220,
          167680,
          169140,
          170600,
          172060,
          173520,
          174980,
          176440,
          177900,
          179360,
          180820,
          182280,
          183740,
          185200,
          186660,
          188120,
          189580,
          191040,
          192500,
          193960,
          195420,
          196880,
          198340,
          199800,
          201260,
          202720,
          204180,
          205640,
          207100,
          208560,
          210020,
          211480,
          212940,
          214400,
          215860,
          217320,
          218780,
          220240,
          221700,
          223160,
          224620,
          226080,
          227540,
          229000,
          230460,
          231920,
          233380,
          234840,
          236300,
          237760,
          239220,
          240680,
          242140,
          243600,
          245060,
          246520,
          247980,
          249440,
          250900,
          252360,
          253820,
          255280,
          256740,
          258200,
          259660,
          261120,
          262580,
          264040,
          265500,
          266960,
          268420,
          269880,
          271340,
          272800,
          274260,
          275720,
          277180,
          278640,
          280100,
          281560,
          283020,
          284480,
          285940,
          287400,
          288860,
          290320,
          291780,
          293240,
          294700,
          296160,
          297620,
          299080,
          300540,
          302000,
          303460,
          304920,
          306380,
          307840,
          309300,
          310760,
          312220,
          313680,
          315140,
          316600,
          318060,
          319520,
          320980,
          322440,
          323900,
          325360,
          326820,
          328280,
          329740,
          331200,
          332660,
          334120,
          335580,
          337040,
          338500,
          339960,
          341420,
          342880,
          344340,
          345800,
          347260,
          348720,
          350180,
          351640,
          353100,
          354560,
          356020,
          357480,
          358940,
          360400,
          361860,
          363320,
          364780,
          366240,
          367700,
          369160,
          370620,
          372080,
          373540,
          375000,
          376460,
          377920,
          379380,
          380840,
          382300,
          383760,
          385220,
          386680,
          388140,
          389600,
          391060,
          392520,
          393980,
          395440,
          396900,
          398360,
          399820,
          401280,
          402740,
          404200,
          405660,
          407120,
          408580,
          410040,
          411500,
          412960,
          414420,
          415880,
          417340,
          418800,
          420260,
          421720,
          423180,
          424640,
          426100,
          427560,
          429020,
          430480,
          431940,
          433400,
          434860,
          436320,
          437780,
          439240,
          440700,
          442160,
          443620,
          445080,
          446540,
          448000,
          449460,
          450920,
          452380,
          453840,
          455300,
          456760,
          458220,
          459680,
          461140,
          462600,
          464060,
          465520,
          466980,
          468440,
          469900,
          471360,
          472820,
          474280,
          475740,
          477200,
          478660,
          480120,
          481580,
          483040,
          484500,
          485960,
          487420,
          488880,
          490340,
          491800,
          493260,
          494720,
          496180,
          497640,
          499100,
          500560,
          502020,
          503480,
          504940,
          506400,
          507860,
          509320,
          510780,
          512240,
          513700,
          515160,
          516620,
          518080,
          519540,
          521000,
          522460,
          523920,
          525380,
          526840,
          528300,
          529760,
          531220,
          532680,
          534140,
          535600,
          537060,
          538520,
          539980,
          541440,
          542900,
          544360,
          545820,
          547280,
          548740,
          550200,
          551660,
          553120,
          554580,
          556040,
          557500,
          558960,
          560420,
          561880,
          563340,
          564800,
          566260,
          567720,
          569180,
          570640,
          572100,
          573560,
          575020,
          576480,
          577940,
          579400,
          580860,
          582320,
          583780,
          585240,
          586700,
          588160,
          589620,
          591080,
          592540,
          594000,
          595460,
          596920,
          598380,
          599840,
          601300,
          602760,
          604220,
          605680,
          607140,
          608600,
          610060,
          611520,
          612980,
          614440,
          615900,
          617360,
          618820,
          620280,
          621740,
          623200,
          624660,
          626120,
          627580,
          629040,
          630500,
          631960,
          633420,
          634880,
          636340,
          637800,
          639260,
          640720,
          642180,
          643640,
          645100,
          646560,
          648020,
          649480,
          650940,
          652400,
          653860,
          655320,
          656780,
          658240,
          659700,
          661160,
          662620,
          664080,
          665540,
          667000,
          668460,
          669920,
          671380,
          672840,
          674300,
          675760,
          677220,
          678680,
          680140,
          681600,
          683060,
          684520,
          685980,
          687440,
          688900,
          690360,
          691820,
          693280,
          694740,
          696200,
          697660,
          699120,
          700580,
          702040,
          703500,
          704960,
          706420,
          707880,
          709340,
          710800,
          712260,
          713720,
          715180,
          716640,
          718100,
          719560,
          721020,
          722480,
          723940,
          725400,
          726860,
          728320,
          729780,
          731240,
          732700,
          734160,
          735620,
          737080,
          738540
         ],
         "xaxis": "x",
         "y": [
          0.000003973561141110785,
          0.000004187222571743089,
          0.000004396579379961214,
          0.000004600292809029319,
          0.000004797095025020708,
          0.00000498580840706381,
          0.000005165362019267304,
          0.000005334804814785286,
          0.000005493315266558228,
          0.000005640207277390103,
          0.00000577493238564758,
          0.000005897078442925129,
          0.000006006365087477726,
          0.000006102636463799768,
          0.000006185851737301328,
          0.000006256074018267033,
          0.000006313458337931122,
          0.000006358239310632415,
          0.000006390719071210978,
          0.0000064112559998206784,
          0.000006420254643148653,
          0.0000064181571190901275,
          0.000006405436159902989,
          0.0000063825898158299065,
          0.000006350137716032773,
          0.000006308618674622263,
          0.000006258589343240079,
          0.000006200623553125217,
          0.000006135311961576494,
          0.000006063261620855136,
          0.000005985095120094664,
          0.0000059014490090544745,
          0.000005812971291087106,
          0.000005720317864926609,
          0.000005624147893447781,
          0.000005525118175016652,
          0.0000054238766823817634,
          0.000005321055509179258,
          0.0000052172635202879664,
          0.0000051130790362649765,
          0.000005009042892552676,
          0.000004905652201346615,
          0.000004803355109903571,
          0.000004702546796939683,
          0.000004603566882964817,
          0.00000450669835587479,
          0.0000044121680351622755,
          0.000004320148521754953,
          0.000004230761510409725,
          0.000004144082281580586,
          0.000004060145142676501,
          0.000003978949556405843,
          0.00000390046667722656,
          0.000003824646015472432,
          0.000003751421961325764,
          0.0000036807199255132663,
          0.00000361246188802518,
          0.000003546571187538558,
          0.000003482976429772711,
          0.000003421614440029555,
          0.0000033624322311858643,
          0.000003305388001367197,
          0.0000032504512137840285,
          0.0000031976018435896934,
          0.0000031468289024020274,
          0.0000030981283700606114,
          0.0000030515006753292412,
          0.0000030069478729925824,
          0.0000029644706647341155,
          0.0000029240654060683587,
          0.0000028857212322438207,
          0.0000028494174232845882,
          0.000002815121112997085,
          0.0000027827854295870453,
          0.0000027523481371729526,
          0.000002723730828522915,
          0.000002696838700275543,
          0.0000026715609231078207,
          0.0000026477716011545984,
          0.0000026253312976999093,
          0.000002604089088003528,
          0.0000025838850853047798,
          0.0000025645533727321514,
          0.0000025459252622495465,
          0.000002527832792062739,
          0.0000025101123662723144,
          0.0000024926084351986532,
          0.000002475177111860094,
          0.0000024576896197382967,
          0.000002440035469299037,
          0.0000024221252658276305,
          0.0000024038930589726128,
          0.000002385298154870507,
          0.000002366326324677125,
          0.0000023469903584784484,
          0.0000023273299305144955,
          0.000002307410759992785,
          0.000002287323070940225,
          0.000002267179374000689,
          0.000002247111612209305,
          0.0000022272677309932866,
          0.0000022078077493869428,
          0.0000021888994242262263,
          0.0000021707136114588566,
          0.0000021534194383685356,
          0.0000021371794072216185,
          0.0000021221445544808572,
          0.0000021084497902599065,
          0.000002096209540152585,
          0.000002085513806072365,
          0.0000020764247544119256,
          0.000002068973928873042,
          0.0000020631601718814767,
          0.0000020589483228160553,
          0.0000020562687435227577,
          0.000002055017702004221,
          0.0000020550586240311694,
          0.0000020562242000422818,
          0.0000020583193114880897,
          0.0000020611247172495544,
          0.0000020644014175208296,
          0.0000020678955903309498,
          0.0000020713439755040633,
          0.0000020744795632063714,
          0.0000020770374302364207,
          0.0000020787605577368597,
          0.000002079405459859885,
          0.0000020787474547100737,
          0.0000020765854170196466,
          0.000002072745866592728,
          0.0000020670862673517778,
          0.0000020594974382790704,
          0.0000020499050087157437,
          0.00000203826988515552,
          0.000002024587733308458,
          0.0000020088875161569992,
          0.000001991229164180212,
          0.00000197170048614321,
          0.0000019504134562129573,
          0.0000019275000342770307,
          0.0000019031076901719233,
          0.000001877394808405884,
          0.000001850526147694379,
          0.0000018226685194664807,
          0.0000017939868321311205,
          0.0000017646406244187727,
          0.0000017347811829149657,
          0.0000017045493076208427,
          0.000001674073756734569,
          0.0000016434703695961628,
          0.0000016128418365013704,
          0.000001582278057305793,
          0.0000015518570085579925,
          0.00000152164602213789,
          0.0000014917033674930984,
          0.0000014620800246546806,
          0.000001432821536026414,
          0.0000014039698309367181,
          0.0000013755649273412744,
          0.0000013476464289262827,
          0.0000013202547521560009,
          0.0000012934320354949205,
          0.0000012672227011210175,
          0.0000012416736570563003,
          0.0000012168341440364045,
          0.0000011927552460712644,
          0.000001169489096129196,
          0.000001147087818508276,
          0.0000011256022571910283,
          0.000001105080544888518,
          0.0000010855665707370789,
          0.0000010670984059409223,
          0.0000010497067463059453,
          0.0000010334134288266514,
          0.000001018230076486618,
          0.0000010041569213887845,
          9.911818513763135e-7,
          9.792797195298287e-7,
          9.684119493891675e-7,
          9.58526461492402e-7,
          9.495579388951508e-7,
          9.414284407913591e-7,
          9.34048364298832e-7,
          9.273177450405728e-7,
          9.211278775376319e-7,
          9.153632268747093e-7,
          9.099035938896146e-7,
          9.046264875954639e-7,
          8.994096509948244e-7,
          8.941336802217011e-7,
          8.886846723373575e-7,
          8.829568343638313e-7,
          8.76854985429513e-7,
          8.702968853181844e-7,
          8.632153262423187e-7,
          8.555599301944344e-7,
          8.472986015586381e-7,
          8.384185934943931e-7,
          8.289271565722709e-7,
          8.188517488396706e-7,
          8.082397974896557e-7,
          7.971580131814027e-7,
          7.85691268425323e-7,
          7.739410609781447e-7,
          7.620235916449411e-7,
          7.500674931077506e-7,
          7.382112523396136e-7,
          7.266003738650027e-7,
          7.153843347189085e-7,
          7.047133846296509e-7,
          6.94735246935351e-7,
          6.855917772750287e-7,
          6.774156383858909e-7,
          6.703270505413446e-7,
          6.644306783532082e-7,
          6.598127158058438e-7,
          6.56538232348661e-7,
          6.546488433954662e-7,
          6.541607683172991e-7,
          6.550633375516924e-7,
          6.573180073328279e-7,
          6.608579353297588e-7,
          6.655881627783301e-7,
          6.713864382257875e-7,
          6.781047046496678e-7,
          6.855712555290772e-7,
          6.935935467150963e-7,
          7.019616301787725e-7,
          7.104521536357588e-7,
          7.188328475816564e-7,
          7.268673994965669e-7,
          7.343205950617332e-7,
          7.409635893664953e-7,
          7.465791584065443e-7,
          7.509667736818699e-7,
          7.539473411803183e-7,
          7.553674509828259e-7,
          7.551029953232509e-7,
          7.530620309879875e-7,
          7.491867858905228e-7,
          7.434547385925496e-7,
          7.358787322454636e-7,
          7.265061194274637e-7,
          7.154169700219281e-7,
          7.027214089213771e-7,
          6.885561822800821e-7,
          6.730805787378897e-7,
          6.564718541822479e-7,
          6.389203241861195e-7,
          6.206242965965156e-7,
          6.017850175812114e-7,
          5.826017978987393e-7,
          5.632674727534888e-7,
          5.439643291879682e-7,
          5.248606106892864e-7,
          5.061076808923383e-7,
          4.878378984181498e-7,
          4.7016322449539486e-7,
          4.5317455552609257e-7,
          4.3694174549296547e-7,
          4.2151425918841174e-7,
          4.0692237755088676e-7,
          3.931788615245052e-7,
          3.802809711238008e-7,
          3.682127318169991e-7,
          3.569473407085321e-7,
          3.464496098494717e-7,
          3.366783527027723e-7,
          3.275886315790002e-7,
          3.1913379790854684e-7,
          3.112672726768259e-7,
          3.0394403039678455e-7,
          2.9712176587170257e-7,
          2.9076173805269444e-7,
          2.8482929898041235e-7,
          2.792941277106392e-7,
          2.741301989819987e-7,
          2.69315524040717e-7,
          2.648317064550353e-7,
          2.606633589900394e-7,
          2.5679742880850376e-7,
          2.532224776071181e-7,
          2.499279610192762e-7,
          2.469035479639332e-7,
          2.441385158474347e-7,
          2.416212518791002e-7,
          2.3933888447476763e-7,
          2.3727706201164977e-7,
          2.3541988926032165e-7,
          2.3375002483549543e-7,
          2.3224893614200183e-7,
          2.3089730169909492e-7,
          2.2967554454955975e-7,
          2.2856447483748057e-7,
          2.275460147019336e-7,
          2.266039745090155e-7,
          2.2572484625028237e-7,
          2.248985777792872e-7,
          2.2411929053397096e-7,
          2.233859035762208e-7,
          2.2270262822303334e-7,
          2.2207930027090394e-7,
          2.2153152081759946e-7,
          2.2108058191955155e-7,
          2.2075315970495033e-7,
          2.205807649676235e-7,
          2.2059894952796781e-7,
          2.2084627555523945e-7,
          2.2136306435060786e-7,
          2.2218995050515325e-7,
          2.2336627655109513e-7,
          2.2492837187251668e-7,
          2.2690776737116212e-7,
          2.2932940382709602e-7,
          2.3220989669561856e-7,
          2.3555592290972151e-7,
          2.393627958245915e-7,
          2.4361329252340815e-7,
          2.482767931612307e-7,
          2.533087848150374e-7,
          2.586507725081182e-7,
          2.642306278860032e-7,
          2.6996339177027766e-7,
          2.7575253096438e-7,
          2.8149163280776255e-7,
          2.870665037451865e-7,
          2.923576213406101e-7,
          2.9724287349991824e-7,
          3.0160050494904745e-7,
          3.053121799710955e-7,
          3.0826606267274046e-7,
          3.103598121274391e-7,
          3.115033899616844e-7,
          3.1162158244397984e-7,
          3.106561478238074e-7,
          3.0856751225087093e-7,
          3.053359535771093e-7,
          3.0096223101360606e-7,
          2.9546763914161655e-7,
          2.888934862168088e-7,
          2.813000180640794e-7,
          2.7276482914718453e-7,
          2.633808206860916e-7,
          2.532537811711666e-7,
          2.4249967663250687e-7,
          2.3124174610150404e-7,
          2.1960750160053104e-7,
          2.0772573168694684e-7,
          1.9572360324420545e-7,
          1.8372394823653536e-7,
          1.7184281106825554e-7,
          1.6018731868414337e-7,
          1.4885392036371565e-7,
          1.3792702808413886e-7,
          1.2747807212744955e-7,
          1.1756497100848494e-7,
          1.0823200043418994e-7,
          9.951003339245622e-8,
          9.141711299795377e-8,
          8.395931164328028e-8,
          7.71318244278686e-8,
          7.09202417479364e-8,
          6.530194519851006e-8,
          6.024757234079086e-8,
          5.5722499132585886e-8,
          5.16882935678234e-8,
          4.81040999620616e-8,
          4.492791999079445e-8,
          4.211776368839467e-8,
          3.963265082930733e-8,
          3.7433450160837726e-8,
          3.548355060554461e-8,
          3.374936461622554e-8,
          3.2200669211329164e-8,
          3.081079475240807e-8,
          2.9556675198350076e-8,
          2.8418776370127348e-8,
          2.7380920701616567e-8,
          2.6430028078426835e-8,
          2.555579273877912e-8,
          2.4750315904028416e-8,
          2.4007712907460228e-8,
          2.3323712191182273e-8,
          2.2695261738493487e-8,
          2.2120156400090562e-8,
          2.1596697252533365e-8,
          2.112339168875752e-8,
          2.0698700470148403e-8,
          2.0320835548071094e-8,
          1.9987610161924825e-8,
          1.9696340603537162e-8,
          1.9443797156457974e-8,
          1.9226200114767717e-8,
          1.9039255489087638e-8,
          1.8878224035491035e-8,
          1.873801660219147e-8,
          1.8613308474192302e-8,
          1.8498665391928204e-8,
          1.8388674201171773e-8,
          1.8278071624663247e-8,
          1.8161865390761e-8,
          1.803544286542648e-8,
          1.7894663362155436e-8,
          1.773593139963359e-8,
          1.755624928884016e-8,
          1.735324851222626e-8,
          1.7125200363605036e-8,
          1.687100721030432e-8,
          1.6590176487754316e-8,
          1.6282780117910858e-8,
          1.5949402442526002e-8,
          1.5591079975208725e-8,
          1.5209236306535877e-8,
          1.4805615356806655e-8,
          1.438221588166141e-8,
          1.3941229723289863e-8,
          1.3484985795616626e-8,
          1.3015901229797152e-8,
          1.2536440521602022e-8,
          1.2049082948787573e-8,
          1.1556297995455731e-8,
          1.1060528058360837e-8,
          1.0564177338103201e-8,
          1.0069605550572481e-8,
          9.579124938329615e-9,
          9.094999018334428e-9,
          8.61944156554613e-9,
          8.154614489732242e-9,
          7.702623499021634e-9,
          7.2655107387081375e-9,
          6.8452439260185015e-9,
          6.443701848936772e-9,
          6.0626564384020005e-9,
          5.703751938845253e-9,
          5.3684819754350505e-9,
          5.05816553432218e-9,
          4.7739230251704895e-9,
          4.516653677798119e-9,
          4.287015535140007e-9,
          4.085409244815228e-9,
          3.911966726334206e-9,
          3.7665456080430665e-9,
          3.6487300970396754e-9,
          3.5578386778640576e-9,
          3.4929387442134656e-9,
          3.4528679653305627e-9,
          3.4362618883242853e-9,
          3.441586992565593e-9,
          3.4671781549281298e-9,
          3.511279266541828e-9,
          3.572085573099227e-9,
          3.647786200108095e-9,
          3.736605278260477e-9,
          3.836840106298806e-9,
          3.946894880663514e-9,
          4.065308681062177e-9,
          4.190776624006086e-9,
          4.322163374245734e-9,
          4.458508525810212e-9,
          4.599023716236084e-9,
          4.743081703615871e-9,
          4.890197998907233e-9,
          5.0400059875248584e-9,
          5.192226776970342e-9,
          5.3466352549215784e-9,
          5.503024020995847e-9,
          5.66116695484373e-9,
          5.82078419694087e-9,
          5.98151024466753e-9,
          6.142866708129408e-9,
          6.304241035637852e-9,
          6.464872220247825e-9,
          6.62384415243689e-9,
          6.780086908906769e-9,
          6.932385884270744e-9,
          7.0793983020972234e-9,
          7.219676304490705e-9,
          7.35169553295026e-9,
          7.4738878921366e-9,
          7.584677042625612e-9,
          7.682515104103373e-9,
          7.765919067027362e-9,
          7.833505503800293e-9,
          7.884022330679036e-9,
          7.916376585884317e-9,
          7.9296574418222e-9,
          7.923153942514281e-9,
          7.896367233468922e-9,
          7.849017313427446e-9,
          7.781044570847256e-9,
          7.692606560773878e-9,
          7.584070621695298e-9,
          7.456003022875531e-9,
          7.309155370417359e-9,
          7.144448988606694e-9,
          6.962957938916703e-9,
          6.765891251888038e-9,
          6.554574838039129e-9,
          6.330433424704682e-9,
          6.09497274760026e-9
         ],
         "yaxis": "y"
        },
        {
         "fill": "tozeroy",
         "hovertemplate": "<b>Synthetic</b><br>Value: %{x}<br>Frequency: %{y}<extra></extra>",
         "legendgroup": "Synthetic",
         "marker": {
          "color": "#01E0C9"
         },
         "mode": "lines",
         "name": "Synthetic",
         "showlegend": true,
         "type": "scatter",
         "x": [
          99026.1640625,
          99553.579296875,
          100080.99453125,
          100608.409765625,
          101135.825,
          101663.240234375,
          102190.65546875,
          102718.070703125,
          103245.4859375,
          103772.901171875,
          104300.31640625,
          104827.731640625,
          105355.146875,
          105882.562109375,
          106409.97734375,
          106937.392578125,
          107464.8078125,
          107992.223046875,
          108519.63828125,
          109047.053515625,
          109574.46875,
          110101.883984375,
          110629.29921875,
          111156.714453125,
          111684.1296875,
          112211.544921875,
          112738.96015625,
          113266.375390625,
          113793.790625,
          114321.205859375,
          114848.62109375,
          115376.036328125,
          115903.4515625,
          116430.866796875,
          116958.28203125,
          117485.697265625,
          118013.1125,
          118540.527734375,
          119067.94296875,
          119595.358203125,
          120122.7734375,
          120650.188671875,
          121177.60390625,
          121705.019140625,
          122232.434375,
          122759.849609375,
          123287.26484375,
          123814.680078125,
          124342.0953125,
          124869.510546875,
          125396.92578125,
          125924.341015625,
          126451.75625,
          126979.171484375,
          127506.58671875,
          128034.001953125,
          128561.4171875,
          129088.832421875,
          129616.24765625,
          130143.662890625,
          130671.078125,
          131198.493359375,
          131725.90859375,
          132253.323828125,
          132780.7390625,
          133308.154296875,
          133835.56953125,
          134362.984765625,
          134890.4,
          135417.815234375,
          135945.23046875,
          136472.645703125,
          137000.0609375,
          137527.476171875,
          138054.89140625,
          138582.306640625,
          139109.721875,
          139637.137109375,
          140164.55234375,
          140691.967578125,
          141219.3828125,
          141746.798046875,
          142274.21328125,
          142801.628515625,
          143329.04375,
          143856.458984375,
          144383.87421875,
          144911.289453125,
          145438.7046875,
          145966.119921875,
          146493.53515625,
          147020.950390625,
          147548.365625,
          148075.780859375,
          148603.19609375,
          149130.611328125,
          149658.0265625,
          150185.441796875,
          150712.85703125,
          151240.272265625,
          151767.6875,
          152295.102734375,
          152822.51796875,
          153349.933203125,
          153877.3484375,
          154404.763671875,
          154932.17890625,
          155459.594140625,
          155987.009375,
          156514.424609375,
          157041.83984375,
          157569.255078125,
          158096.6703125,
          158624.085546875,
          159151.50078125,
          159678.916015625,
          160206.33125,
          160733.746484375,
          161261.16171875,
          161788.576953125,
          162315.9921875,
          162843.407421875,
          163370.82265625,
          163898.237890625,
          164425.653125,
          164953.068359375,
          165480.48359375,
          166007.898828125,
          166535.3140625,
          167062.729296875,
          167590.14453125,
          168117.559765625,
          168644.975,
          169172.390234375,
          169699.80546875,
          170227.220703125,
          170754.6359375,
          171282.051171875,
          171809.46640625,
          172336.881640625,
          172864.296875,
          173391.712109375,
          173919.12734375,
          174446.542578125,
          174973.9578125,
          175501.373046875,
          176028.78828125,
          176556.203515625,
          177083.61875,
          177611.033984375,
          178138.44921875,
          178665.864453125,
          179193.2796875,
          179720.694921875,
          180248.11015625,
          180775.525390625,
          181302.940625,
          181830.355859375,
          182357.77109375,
          182885.186328125,
          183412.6015625,
          183940.016796875,
          184467.43203125,
          184994.847265625,
          185522.2625,
          186049.677734375,
          186577.09296875,
          187104.508203125,
          187631.9234375,
          188159.338671875,
          188686.75390625,
          189214.169140625,
          189741.584375,
          190268.999609375,
          190796.41484375,
          191323.830078125,
          191851.2453125,
          192378.660546875,
          192906.07578125,
          193433.491015625,
          193960.90625,
          194488.321484375,
          195015.73671875,
          195543.151953125,
          196070.5671875,
          196597.982421875,
          197125.39765625,
          197652.812890625,
          198180.228125,
          198707.643359375,
          199235.05859375,
          199762.473828125,
          200289.8890625,
          200817.304296875,
          201344.71953125,
          201872.134765625,
          202399.55,
          202926.965234375,
          203454.38046875,
          203981.795703125,
          204509.2109375,
          205036.626171875,
          205564.04140625,
          206091.456640625,
          206618.871875,
          207146.287109375,
          207673.70234375,
          208201.117578125,
          208728.5328125,
          209255.948046875,
          209783.36328125,
          210310.778515625,
          210838.19375,
          211365.608984375,
          211893.02421875,
          212420.439453125,
          212947.8546875,
          213475.269921875,
          214002.68515625,
          214530.100390625,
          215057.515625,
          215584.930859375,
          216112.34609375,
          216639.761328125,
          217167.1765625,
          217694.591796875,
          218222.00703125,
          218749.422265625,
          219276.8375,
          219804.252734375,
          220331.66796875,
          220859.083203125,
          221386.4984375,
          221913.913671875,
          222441.32890625,
          222968.744140625,
          223496.159375,
          224023.574609375,
          224550.98984375,
          225078.405078125,
          225605.8203125,
          226133.235546875,
          226660.65078125,
          227188.066015625,
          227715.48125,
          228242.896484375,
          228770.31171875,
          229297.726953125,
          229825.1421875,
          230352.557421875,
          230879.97265625,
          231407.387890625,
          231934.803125,
          232462.218359375,
          232989.63359375,
          233517.048828125,
          234044.4640625,
          234571.879296875,
          235099.29453125,
          235626.709765625,
          236154.125,
          236681.540234375,
          237208.95546875,
          237736.370703125,
          238263.7859375,
          238791.201171875,
          239318.61640625,
          239846.031640625,
          240373.446875,
          240900.862109375,
          241428.27734375,
          241955.692578125,
          242483.1078125,
          243010.523046875,
          243537.93828125,
          244065.353515625,
          244592.76875,
          245120.183984375,
          245647.59921875,
          246175.014453125,
          246702.4296875,
          247229.844921875,
          247757.26015625,
          248284.675390625,
          248812.090625,
          249339.505859375,
          249866.92109375,
          250394.336328125,
          250921.7515625,
          251449.166796875,
          251976.58203125,
          252503.997265625,
          253031.4125,
          253558.827734375,
          254086.24296875,
          254613.658203125,
          255141.0734375,
          255668.488671875,
          256195.90390625,
          256723.319140625,
          257250.734375,
          257778.149609375,
          258305.56484375,
          258832.980078125,
          259360.3953125,
          259887.810546875,
          260415.22578125,
          260942.641015625,
          261470.05625,
          261997.471484375,
          262524.88671875,
          263052.301953125,
          263579.7171875,
          264107.132421875,
          264634.54765625,
          265161.962890625,
          265689.378125,
          266216.793359375,
          266744.20859375,
          267271.623828125,
          267799.0390625,
          268326.454296875,
          268853.86953125,
          269381.284765625,
          269908.7,
          270436.115234375,
          270963.53046875,
          271490.945703125,
          272018.3609375,
          272545.776171875,
          273073.19140625,
          273600.606640625,
          274128.021875,
          274655.437109375,
          275182.85234375,
          275710.267578125,
          276237.6828125,
          276765.098046875,
          277292.51328125,
          277819.928515625,
          278347.34375,
          278874.758984375,
          279402.17421875,
          279929.589453125,
          280457.0046875,
          280984.419921875,
          281511.83515625,
          282039.250390625,
          282566.665625,
          283094.080859375,
          283621.49609375,
          284148.911328125,
          284676.3265625,
          285203.741796875,
          285731.15703125,
          286258.572265625,
          286785.9875,
          287313.402734375,
          287840.81796875,
          288368.233203125,
          288895.6484375,
          289423.063671875,
          289950.47890625,
          290477.894140625,
          291005.309375,
          291532.724609375,
          292060.13984375,
          292587.555078125,
          293114.9703125,
          293642.385546875,
          294169.80078125,
          294697.216015625,
          295224.63125,
          295752.046484375,
          296279.46171875,
          296806.876953125,
          297334.2921875,
          297861.707421875,
          298389.12265625,
          298916.537890625,
          299443.953125,
          299971.368359375,
          300498.78359375,
          301026.198828125,
          301553.6140625,
          302081.029296875,
          302608.44453125,
          303135.859765625,
          303663.275,
          304190.690234375,
          304718.10546875,
          305245.520703125,
          305772.9359375,
          306300.351171875,
          306827.76640625,
          307355.181640625,
          307882.596875,
          308410.012109375,
          308937.42734375,
          309464.842578125,
          309992.2578125,
          310519.673046875,
          311047.08828125,
          311574.503515625,
          312101.91875,
          312629.333984375,
          313156.74921875,
          313684.164453125,
          314211.5796875,
          314738.994921875,
          315266.41015625,
          315793.825390625,
          316321.240625,
          316848.655859375,
          317376.07109375,
          317903.486328125,
          318430.9015625,
          318958.316796875,
          319485.73203125,
          320013.147265625,
          320540.5625,
          321067.977734375,
          321595.39296875,
          322122.808203125,
          322650.2234375,
          323177.638671875,
          323705.05390625,
          324232.469140625,
          324759.884375,
          325287.299609375,
          325814.71484375,
          326342.130078125,
          326869.5453125,
          327396.960546875,
          327924.37578125,
          328451.791015625,
          328979.20625,
          329506.621484375,
          330034.03671875,
          330561.451953125,
          331088.8671875,
          331616.282421875,
          332143.69765625,
          332671.112890625,
          333198.528125,
          333725.943359375,
          334253.35859375,
          334780.773828125,
          335308.1890625,
          335835.604296875,
          336363.01953125,
          336890.434765625,
          337417.85,
          337945.265234375,
          338472.68046875,
          339000.095703125,
          339527.5109375,
          340054.926171875,
          340582.34140625,
          341109.756640625,
          341637.171875,
          342164.587109375,
          342692.00234375,
          343219.417578125,
          343746.8328125,
          344274.248046875,
          344801.66328125,
          345329.078515625,
          345856.49375,
          346383.908984375,
          346911.32421875,
          347438.739453125,
          347966.1546875,
          348493.569921875,
          349020.98515625,
          349548.400390625,
          350075.815625,
          350603.230859375,
          351130.64609375,
          351658.061328125,
          352185.4765625,
          352712.891796875,
          353240.30703125,
          353767.722265625,
          354295.1375,
          354822.552734375,
          355349.96796875,
          355877.383203125,
          356404.7984375,
          356932.213671875,
          357459.62890625,
          357987.044140625,
          358514.459375,
          359041.874609375,
          359569.28984375,
          360096.705078125,
          360624.1203125,
          361151.535546875,
          361678.95078125,
          362206.366015625
         ],
         "xaxis": "x",
         "y": [
          2.541349143558539e-8,
          2.7423692876117646e-8,
          2.9560240078397973e-8,
          3.1828049841010574e-8,
          3.423177748197943e-8,
          3.6775768412930914e-8,
          3.946401894829378e-8,
          4.2300148510429183e-8,
          4.528738503371427e-8,
          4.8428564912757936e-8,
          5.172614830205738e-8,
          5.518224998176178e-8,
          5.879868538612238e-8,
          6.25770307794011e-8,
          6.651869599074829e-8,
          7.062500761576412e-8,
          7.489730018568087e-8,
          7.933701251790429e-8,
          8.394578630997673e-8,
          8.872556403124817e-8,
          9.36786833027791e-8,
          9.88079652280143e-8,
          1.041167945284613e-7,
          1.096091898269398e-7,
          1.15289862977344e-7,
          1.2116426693195933e-7,
          1.2723863223107695e-7,
          1.3351999276121214e-7,
          1.4001620192628756e-7,
          1.4673594078363443e-7,
          1.5368871999236883e-7,
          1.6088487759146228e-7,
          1.683355746620459e-7,
          1.7605279083458768e-7,
          1.8404932138520944e-7,
          1.9233877734203603e-7,
          2.0093558961276419e-7,
          2.0985501767308147e-7,
          2.1911316284889908e-7,
          2.287269857103334e-7,
          2.3871432659774254e-7,
          2.4909392784263025e-7,
          2.598854558478371e-7,
          2.711095208665503e-7,
          2.827876920776022e-7,
          2.9494250540013805e-7,
          3.075974614242989e-7,
          3.2077701085321443e-7,
          3.345065249500338e-7,
          3.488122486552586e-7,
          3.6372123427788965e-7,
          3.7926125396281347e-7,
          3.954606894923797e-7,
          4.123483983897126e-7,
          4.299535557544632e-7,
          4.483054717789642e-7,
          4.674333854653183e-7,
          4.873662356920531e-7,
          5.081324114607781e-7,
          5.297594838833247e-7,
          5.522739232379083e-7,
          5.757008052122469e-7,
          6.000635112397616e-7,
          6.253834285917255e-7,
          6.516796565781291e-7,
          6.7896872579198e-7,
          7.072643377621011e-7,
          7.365771326142545e-7,
          7.669144923377009e-7,
          7.982803869788034e-7,
          8.306752705082534e-7,
          8.640960322198774e-7,
          8.985360083176494e-7,
          9.339850568508423e-7,
          9.70429697400651e-7,
          0.0000010078533149577632,
          0.0000010462364253279423,
          0.0000010855569972440622,
          0.0000011257908242397853,
          0.0000011669119373492812,
          0.00000120889304793526,
          0.0000012517060085049115,
          0.0000012953222783294099,
          0.0000013397133800996302,
          0.0000013848513337714861,
          0.0000014307090541965027,
          0.0000014772607000902806,
          0.0000015244819633316779,
          0.0000015723502894521449,
          0.0000016208450223922246,
          0.0000016699474690775254,
          0.000001719640881995669,
          0.0000017699103606310341,
          0.0000018207426752268518,
          0.0000018721260187941184,
          0.000001924049695484857,
          0.000001976503755320084,
          0.000002029478586756102,
          0.000002082964479652331,
          0.0000021369511718551167,
          0.000002191427392839312,
          0.000002246380417674069,
          0.0000023017956440347504,
          0.0000023576562041135683,
          0.000002413942622137385,
          0.0000024706325268348384,
          0.000002527700426660329,
          0.000002585117553929845,
          0.000002642851782301877,
          0.0000027008676202898404,
          0.0000027591262817603323,
          0.0000028175858326932014,
          0.000002876201411888214,
          0.000002934925521832336,
          0.000002993708384623549,
          0.000003052498356708485,
          0.0000031112423952605373,
          0.000003169886568321743,
          0.00000322837660037243,
          0.0000032866584447825787,
          0.000003344678874633291,
          0.000003402386083660259,
          0.00000345973028952911,
          0.0000035166643322635047,
          0.0000035731442613500945,
          0.000003629129905772987,
          0.0000036845854219102417,
          0.000003739479814777994,
          0.000003793787428465909,
          0.000003847488401708492,
          0.000003900569084338625,
          0.000003953022409854466,
          0.000004004848218505812,
          0.0000040560535242139745,
          0.000004106652717349758,
          0.00000415666769401187,
          0.000004206127901102331,
          0.000004255070285334038,
          0.000004303539133491552,
          0.0000043515857909604425,
          0.000004399268245896066,
          0.000004446650567549491,
          0.000004493802189303586,
          0.000004540797029951044,
          0.000004587712450668877,
          0.000004634628049957536,
          0.00000468162430440239,
          0.000004728781069306827,
          0.00000477617595981574,
          0.000004823882639820304,
          0.0000048719690524045295,
          0.000004920495631536586,
          0.000004969513539790047,
          0.000005019062980787857,
          0.000005069171637512397,
          0.000005119853288377188,
          0.000005171106651842168,
          0.000005222914507275504,
          0.000005275243134709564,
          0.000005328042109184039,
          0.00000538124447668337,
          0.0000054347673285119,
          0.000005488512779634539,
          0.000005542369344437398,
          0.000005596213690967553,
          0.000005649912742456591,
          0.000005703326083285642,
          0.0000057563086159623165,
          0.000005808713406563769,
          0.000005860394648806754,
          0.000005911210671722155,
          0.000005961026913028112,
          0.000006009718779818113,
          0.000006057174320117995,
          0.000006103296633127892,
          0.00000614800595238842,
          0.000006191241344444,
          0.0000062329619755212566,
          0.000006273147909946559,
          0.000006311800416128384,
          0.000006348941768542211,
          0.000006384614546918446,
          0.000006418880446393679,
          0.000006451818624436342,
          0.000006483523621627081,
          0.00000651410290363387,
          0.00000654367408079409,
          0.000006572361869453925,
          0.0000066002948655205505,
          0.000006627602205472322,
          0.000006654410193298153,
          0.000006680838973456275,
          0.000006706999329930373,
          0.0000067329896897956646,
          0.000006758893406381259,
          0.00000678477639212147,
          0.000006810685164552417,
          0.000006836645360660596,
          0.000006862660765006798,
          0.000006888712885835102,
          0.000006914761100897198,
          0.000006940743381185173,
          0.000006966577586441541,
          0.000006992163311527788,
          0.000007017384247856562,
          0.000007042111009546934,
          0.000007066204360191298,
          0.000007089518763587634,
          0.000007111906170945346,
          0.000007133219948342446,
          0.000007153318841977013,
          0.000007172070875330313,
          0.000007189357071968299,
          0.000007205074900483976,
          0.000007219141344045222,
          0.000007231495506066976,
          0.000007242100675466463,
          0.000007250945789467456,
          0.000007258046248580384,
          0.000007263444056696026,
          0.000007267207278626936,
          0.0000072694288272934875,
          0.000007270224612445991,
          0.000007269731101694955,
          0.000007268102362068994,
          0.00000726550666575775,
          0.000007262122756604382,
          0.000007258135883855105,
          0.000007253733716310541,
          0.000007249102253112616,
          0.0000072444218468289245,
          0.000007239863450253149,
          0.000007235585190553528,
          0.000007231729363302542,
          0.000007228419924870928,
          0.000007225760545122344,
          0.000007223833263848941,
          0.000007222697774577198,
          0.000007222391338917883,
          0.000007222929314257228,
          0.0000072243062580087465,
          0.000007226497553567063,
          0.000007229461487192001,
          0.0000072331416918793184,
          0.000007237469864336186,
          0.0000072423686548340305,
          0.000007247754627181299,
          0.000007253541187416035,
          0.000007259641384964881,
          0.000007265970498704899,
          0.000007272448332185089,
          0.000007279001156683707,
          0.000007285563257129417,
          0.000007292078053473082,
          0.000007298498788067668,
          0.000007304788787199343,
          0.000007310921321350749,
          0.000007316879103353438,
          0.000007322653475712951,
          0.000007328243347585551,
          0.000007333653947846823,
          0.000007338895463269335,
          0.0000073439816300533436,
          0.000007348928343030614,
          0.000007353752340148893,
          0.000007358470010828279,
          0.00000736309636606226,
          0.000007367644196371395,
          0.000007372123431597846,
          0.000007376540704733533,
          0.000007380899111125102,
          0.0000073851981450410485,
          0.000007389433788140608,
          0.000007393598719147408,
          0.000007397682611137457,
          0.000007401672482301589,
          0.0000074055530676754935,
          0.0000074093071828728975,
          0.000007412916055918884,
          0.000007416359609399332,
          0.000007419616681821395,
          0.000007422665183799021,
          0.0000074254821909654095,
          0.000007428043980939194,
          0.000007430326025903865,
          0.000007432302955166635,
          0.000007433948503333936,
          0.000007435235459488743,
          0.00000743613563110441,
          0.000007436619833613724,
          0.0000074366579128843355,
          0.000007436218803697171,
          0.0000074352706230845615,
          0.000007433780793440078,
          0.000007431716187025987,
          0.00000742904328115421,
          0.000007425728312118396,
          0.000007421737415999786,
          0.000007417036745762298,
          0.00000741159255646888,
          0.000007405371253790614,
          0.000007398339404942652,
          0.000007390463715423776,
          0.000007381710979079594,
          0.0000073720480126799896,
          0.000007361441589058664,
          0.000007349858384624235,
          0.000007337264957526593,
          0.000007323627771855661,
          0.000007308913280979484,
          0.0000072930880796307,
          0.000007276119129853321,
          0.00000725797406075202,
          0.000007238621536524758,
          0.000007218031681922568,
          0.000007196176549489429,
          0.000007173030609071276,
          0.000007148571237473503,
          0.000007122779185021465,
          0.00000709563899626287,
          0.0000070671393641497085,
          0.0000070372734006268014,
          0.000007006038811401138,
          0.000006973437968430315,
          0.000006939477879942133,
          0.000006904170064114311,
          0.000006867530338442092,
          0.000006829578541845285,
          0.0000067903382103348824,
          0.000006749836229261659,
          0.000006708102485623119,
          0.000006665169542537604,
          0.0000066210723548845695,
          0.0000065758480404495725,
          0.000006529535715023979,
          0.00000648217639320389,
          0.00000643381294959289,
          0.000006384490128251547,
          0.000006334254582070031,
          0.000006283154918742772,
          0.000006231241726600113,
          0.00000617856755200967,
          0.000006125186800580652,
          0.000006071155537039049,
          0.000006016531163301867,
          0.0000059613719607377896,
          0.000005905736490518318,
          0.000005849682854892844,
          0.000005793267831644414,
          0.000005736545903349105,
          0.000005679568211802009,
          0.000005622381475553352,
          0.000005565026914443121,
          0.000005507539228934906,
          0.000005449945683652792,
          0.000005392265343652693,
          0.000005334508508586754,
          0.0000052766763841487895,
          0.000005218761022244794,
          0.000005160745551563986,
          0.000005102604709053066,
          0.000005044305670737598,
          0.000004985809167923888,
          0.000004927070862626867,
          0.0000048680429446543945,
          0.0000048086759026556936,
          0.00000474892041307294,
          0.000004688729284699705,
          0.000004628059392734338,
          0.0000045668735350036165,
          0.000004505142144487227,
          0.0000044428447963565606,
          0.00000437997145429401,
          0.00000431652340962865,
          0.000004252513877460973,
          0.000004187968226033703,
          0.000004122923828656706,
          0.000004057429540995088,
          0.00000399154481994715,
          0.000003925338513144515,
          0.0000038588873597988,
          0.0000037922742537437692,
          0.000003725586327688067,
          0.0000036589129235947503,
          0.0000035923435175247827,
          0.0000035259656681100463,
          0.000003459863056052078,
          0.0000033941136777765664,
          0.0000033287882498137054,
          0.000003263948871915947,
          0.000003199647986741084,
          0.000003135927662559333,
          0.000003072819213363137,
          0.0000030103431584714813,
          0.0000029485095117223845,
          0.0000028873183791124895,
          0.0000028267608337023384,
          0.000002766820028122188,
          0.000002707472498378714,
          0.0000026486896080698677,
          0.0000025904390796689097,
          0.000002532686559240817,
          0.000002475397162713184,
          0.0000024185369554618647,
          0.0000023620743222335084,
          0.0000023059811910006934,
          0.0000022502340818719873,
          0.000002194814960280893,
          0.000002139711881969977,
          0.0000020849194254009873,
          0.0000020304389148225257,
          0.0000019762784440256585,
          0.0000019224527165828703,
          0.00000186898272293553,
          0.0000018158952779755274,
          0.0000017632224447365672,
          0.0000017110008705152228,
          0.0000016592710612863277,
          0.0000016080766188169419,
          0.0000015574634626118343,
          0.000001507479055958316,
          0.0000014581716521087179,
          0.0000014095895732689935,
          0.000001361780531761982,
          0.0000013147909996854425,
          0.0000012686656307349365,
          0.0000012234467357147578,
          0.0000011791738116761854,
          0.0000011358831236159123,
          0.0000010936073372108458,
          0.0000010523752010923522,
          0.0000010122112775780328,
          9.731357214637827e-7,
          9.351641073038608e-7,
          8.983073064396253e-7,
          8.625714157538609e-7,
          8.279577406190581e-7,
          7.9446283468849e-7,
          7.620785989920931e-7,
          7.307924422194191e-7,
          7.005875031052939e-7,
          6.714429345195628e-7,
          6.433342472640334e-7,
          6.162337097861853e-7,
          5.901107981332237e-7,
          5.649326886034445e-7,
          5.406647838175449e-7,
          5.172712614361273e-7,
          4.947156335843033e-7,
          4.7296130428351224e-7,
          4.5197211188512796e-7,
          4.3171284367549595e-7,
          4.121497104760325e-7,
          3.93250770168534e-7,
          3.749862905850713e-7,
          3.57329044044747e-7,
          3.402545279131454e-7,
          3.237411078115112e-7,
          3.077700824159518e-7,
          2.923256710677416e-7,
          2.773949275764907e-7,
          2.62967585562067e-7,
          2.4903584238557937e-7,
          2.3559409011787035e-7,
          2.226386030557632e-7,
          2.1016719200859618e-7,
          1.9817883594278256e-7,
          1.8667330160631145e-7,
          1.756507614856382e-7,
          1.6511141991027405e-7,
          1.550551563567202e-7,
          1.4548119405780896e-7,
          1.3638780094023196e-7,
          1.277720287351102e-7,
          1.1962949487322623e-7,
          1.1195421052317438e-7,
          1.0473845688739005e-7,
          9.797271066303368e-8,
          9.164561842266055e-8,
          8.574401859006813e-8,
          8.025300869277898e-8,
          7.515605467506785e-8,
          7.043513826290443e-8,
          6.607093769224393e-8,
          6.204303655130235e-8,
          5.833015505165119e-8,
          5.49103977372218e-8,
          5.1761511468600024e-8,
          4.8861147484889484e-8,
          4.618712144752066e-8,
          4.371766560786223e-8,
          4.1431667608564876e-8,
          3.930889091920771e-8,
          3.733017250847729e-8,
          3.5477594052762666e-8,
          3.3734623756345483e-8,
          3.2086226690127035e-8,
          3.051894242057695e-8,
          2.902092957340382e-8,
          2.758197783187328e-8
         ],
         "yaxis": "y"
        }
       ],
       "layout": {
        "barmode": "overlay",
        "hovermode": "closest",
        "legend": {
         "traceorder": "reversed"
        },
        "plot_bgcolor": "#F5F5F8",
        "template": {
         "data": {
          "bar": [
           {
            "error_x": {
             "color": "#2a3f5f"
            },
            "error_y": {
             "color": "#2a3f5f"
            },
            "marker": {
             "line": {
              "color": "#E5ECF6",
              "width": 0.5
             },
             "pattern": {
              "fillmode": "overlay",
              "size": 10,
              "solidity": 0.2
             }
            },
            "type": "bar"
           }
          ],
          "barpolar": [
           {
            "marker": {
             "line": {
              "color": "#E5ECF6",
              "width": 0.5
             },
             "pattern": {
              "fillmode": "overlay",
              "size": 10,
              "solidity": 0.2
             }
            },
            "type": "barpolar"
           }
          ],
          "carpet": [
           {
            "aaxis": {
             "endlinecolor": "#2a3f5f",
             "gridcolor": "white",
             "linecolor": "white",
             "minorgridcolor": "white",
             "startlinecolor": "#2a3f5f"
            },
            "baxis": {
             "endlinecolor": "#2a3f5f",
             "gridcolor": "white",
             "linecolor": "white",
             "minorgridcolor": "white",
             "startlinecolor": "#2a3f5f"
            },
            "type": "carpet"
           }
          ],
          "choropleth": [
           {
            "colorbar": {
             "outlinewidth": 0,
             "ticks": ""
            },
            "type": "choropleth"
           }
          ],
          "contour": [
           {
            "colorbar": {
             "outlinewidth": 0,
             "ticks": ""
            },
            "colorscale": [
             [
              0,
              "#0d0887"
             ],
             [
              0.1111111111111111,
              "#46039f"
             ],
             [
              0.2222222222222222,
              "#7201a8"
             ],
             [
              0.3333333333333333,
              "#9c179e"
             ],
             [
              0.4444444444444444,
              "#bd3786"
             ],
             [
              0.5555555555555556,
              "#d8576b"
             ],
             [
              0.6666666666666666,
              "#ed7953"
             ],
             [
              0.7777777777777778,
              "#fb9f3a"
             ],
             [
              0.8888888888888888,
              "#fdca26"
             ],
             [
              1,
              "#f0f921"
             ]
            ],
            "type": "contour"
           }
          ],
          "contourcarpet": [
           {
            "colorbar": {
             "outlinewidth": 0,
             "ticks": ""
            },
            "type": "contourcarpet"
           }
          ],
          "heatmap": [
           {
            "colorbar": {
             "outlinewidth": 0,
             "ticks": ""
            },
            "colorscale": [
             [
              0,
              "#0d0887"
             ],
             [
              0.1111111111111111,
              "#46039f"
             ],
             [
              0.2222222222222222,
              "#7201a8"
             ],
             [
              0.3333333333333333,
              "#9c179e"
             ],
             [
              0.4444444444444444,
              "#bd3786"
             ],
             [
              0.5555555555555556,
              "#d8576b"
             ],
             [
              0.6666666666666666,
              "#ed7953"
             ],
             [
              0.7777777777777778,
              "#fb9f3a"
             ],
             [
              0.8888888888888888,
              "#fdca26"
             ],
             [
              1,
              "#f0f921"
             ]
            ],
            "type": "heatmap"
           }
          ],
          "heatmapgl": [
           {
            "colorbar": {
             "outlinewidth": 0,
             "ticks": ""
            },
            "colorscale": [
             [
              0,
              "#0d0887"
             ],
             [
              0.1111111111111111,
              "#46039f"
             ],
             [
              0.2222222222222222,
              "#7201a8"
             ],
             [
              0.3333333333333333,
              "#9c179e"
             ],
             [
              0.4444444444444444,
              "#bd3786"
             ],
             [
              0.5555555555555556,
              "#d8576b"
             ],
             [
              0.6666666666666666,
              "#ed7953"
             ],
             [
              0.7777777777777778,
              "#fb9f3a"
             ],
             [
              0.8888888888888888,
              "#fdca26"
             ],
             [
              1,
              "#f0f921"
             ]
            ],
            "type": "heatmapgl"
           }
          ],
          "histogram": [
           {
            "marker": {
             "pattern": {
              "fillmode": "overlay",
              "size": 10,
              "solidity": 0.2
             }
            },
            "type": "histogram"
           }
          ],
          "histogram2d": [
           {
            "colorbar": {
             "outlinewidth": 0,
             "ticks": ""
            },
            "colorscale": [
             [
              0,
              "#0d0887"
             ],
             [
              0.1111111111111111,
              "#46039f"
             ],
             [
              0.2222222222222222,
              "#7201a8"
             ],
             [
              0.3333333333333333,
              "#9c179e"
             ],
             [
              0.4444444444444444,
              "#bd3786"
             ],
             [
              0.5555555555555556,
              "#d8576b"
             ],
             [
              0.6666666666666666,
              "#ed7953"
             ],
             [
              0.7777777777777778,
              "#fb9f3a"
             ],
             [
              0.8888888888888888,
              "#fdca26"
             ],
             [
              1,
              "#f0f921"
             ]
            ],
            "type": "histogram2d"
           }
          ],
          "histogram2dcontour": [
           {
            "colorbar": {
             "outlinewidth": 0,
             "ticks": ""
            },
            "colorscale": [
             [
              0,
              "#0d0887"
             ],
             [
              0.1111111111111111,
              "#46039f"
             ],
             [
              0.2222222222222222,
              "#7201a8"
             ],
             [
              0.3333333333333333,
              "#9c179e"
             ],
             [
              0.4444444444444444,
              "#bd3786"
             ],
             [
              0.5555555555555556,
              "#d8576b"
             ],
             [
              0.6666666666666666,
              "#ed7953"
             ],
             [
              0.7777777777777778,
              "#fb9f3a"
             ],
             [
              0.8888888888888888,
              "#fdca26"
             ],
             [
              1,
              "#f0f921"
             ]
            ],
            "type": "histogram2dcontour"
           }
          ],
          "mesh3d": [
           {
            "colorbar": {
             "outlinewidth": 0,
             "ticks": ""
            },
            "type": "mesh3d"
           }
          ],
          "parcoords": [
           {
            "line": {
             "colorbar": {
              "outlinewidth": 0,
              "ticks": ""
             }
            },
            "type": "parcoords"
           }
          ],
          "pie": [
           {
            "automargin": true,
            "type": "pie"
           }
          ],
          "scatter": [
           {
            "fillpattern": {
             "fillmode": "overlay",
             "size": 10,
             "solidity": 0.2
            },
            "type": "scatter"
           }
          ],
          "scatter3d": [
           {
            "line": {
             "colorbar": {
              "outlinewidth": 0,
              "ticks": ""
             }
            },
            "marker": {
             "colorbar": {
              "outlinewidth": 0,
              "ticks": ""
             }
            },
            "type": "scatter3d"
           }
          ],
          "scattercarpet": [
           {
            "marker": {
             "colorbar": {
              "outlinewidth": 0,
              "ticks": ""
             }
            },
            "type": "scattercarpet"
           }
          ],
          "scattergeo": [
           {
            "marker": {
             "colorbar": {
              "outlinewidth": 0,
              "ticks": ""
             }
            },
            "type": "scattergeo"
           }
          ],
          "scattergl": [
           {
            "marker": {
             "colorbar": {
              "outlinewidth": 0,
              "ticks": ""
             }
            },
            "type": "scattergl"
           }
          ],
          "scattermapbox": [
           {
            "marker": {
             "colorbar": {
              "outlinewidth": 0,
              "ticks": ""
             }
            },
            "type": "scattermapbox"
           }
          ],
          "scatterpolar": [
           {
            "marker": {
             "colorbar": {
              "outlinewidth": 0,
              "ticks": ""
             }
            },
            "type": "scatterpolar"
           }
          ],
          "scatterpolargl": [
           {
            "marker": {
             "colorbar": {
              "outlinewidth": 0,
              "ticks": ""
             }
            },
            "type": "scatterpolargl"
           }
          ],
          "scatterternary": [
           {
            "marker": {
             "colorbar": {
              "outlinewidth": 0,
              "ticks": ""
             }
            },
            "type": "scatterternary"
           }
          ],
          "surface": [
           {
            "colorbar": {
             "outlinewidth": 0,
             "ticks": ""
            },
            "colorscale": [
             [
              0,
              "#0d0887"
             ],
             [
              0.1111111111111111,
              "#46039f"
             ],
             [
              0.2222222222222222,
              "#7201a8"
             ],
             [
              0.3333333333333333,
              "#9c179e"
             ],
             [
              0.4444444444444444,
              "#bd3786"
             ],
             [
              0.5555555555555556,
              "#d8576b"
             ],
             [
              0.6666666666666666,
              "#ed7953"
             ],
             [
              0.7777777777777778,
              "#fb9f3a"
             ],
             [
              0.8888888888888888,
              "#fdca26"
             ],
             [
              1,
              "#f0f921"
             ]
            ],
            "type": "surface"
           }
          ],
          "table": [
           {
            "cells": {
             "fill": {
              "color": "#EBF0F8"
             },
             "line": {
              "color": "white"
             }
            },
            "header": {
             "fill": {
              "color": "#C8D4E3"
             },
             "line": {
              "color": "white"
             }
            },
            "type": "table"
           }
          ]
         },
         "layout": {
          "annotationdefaults": {
           "arrowcolor": "#2a3f5f",
           "arrowhead": 0,
           "arrowwidth": 1
          },
          "autotypenumbers": "strict",
          "coloraxis": {
           "colorbar": {
            "outlinewidth": 0,
            "ticks": ""
           }
          },
          "colorscale": {
           "diverging": [
            [
             0,
             "#8e0152"
            ],
            [
             0.1,
             "#c51b7d"
            ],
            [
             0.2,
             "#de77ae"
            ],
            [
             0.3,
             "#f1b6da"
            ],
            [
             0.4,
             "#fde0ef"
            ],
            [
             0.5,
             "#f7f7f7"
            ],
            [
             0.6,
             "#e6f5d0"
            ],
            [
             0.7,
             "#b8e186"
            ],
            [
             0.8,
             "#7fbc41"
            ],
            [
             0.9,
             "#4d9221"
            ],
            [
             1,
             "#276419"
            ]
           ],
           "sequential": [
            [
             0,
             "#0d0887"
            ],
            [
             0.1111111111111111,
             "#46039f"
            ],
            [
             0.2222222222222222,
             "#7201a8"
            ],
            [
             0.3333333333333333,
             "#9c179e"
            ],
            [
             0.4444444444444444,
             "#bd3786"
            ],
            [
             0.5555555555555556,
             "#d8576b"
            ],
            [
             0.6666666666666666,
             "#ed7953"
            ],
            [
             0.7777777777777778,
             "#fb9f3a"
            ],
            [
             0.8888888888888888,
             "#fdca26"
            ],
            [
             1,
             "#f0f921"
            ]
           ],
           "sequentialminus": [
            [
             0,
             "#0d0887"
            ],
            [
             0.1111111111111111,
             "#46039f"
            ],
            [
             0.2222222222222222,
             "#7201a8"
            ],
            [
             0.3333333333333333,
             "#9c179e"
            ],
            [
             0.4444444444444444,
             "#bd3786"
            ],
            [
             0.5555555555555556,
             "#d8576b"
            ],
            [
             0.6666666666666666,
             "#ed7953"
            ],
            [
             0.7777777777777778,
             "#fb9f3a"
            ],
            [
             0.8888888888888888,
             "#fdca26"
            ],
            [
             1,
             "#f0f921"
            ]
           ]
          },
          "colorway": [
           "#636efa",
           "#EF553B",
           "#00cc96",
           "#ab63fa",
           "#FFA15A",
           "#19d3f3",
           "#FF6692",
           "#B6E880",
           "#FF97FF",
           "#FECB52"
          ],
          "font": {
           "color": "#2a3f5f"
          },
          "geo": {
           "bgcolor": "white",
           "lakecolor": "white",
           "landcolor": "#E5ECF6",
           "showlakes": true,
           "showland": true,
           "subunitcolor": "white"
          },
          "hoverlabel": {
           "align": "left"
          },
          "hovermode": "closest",
          "mapbox": {
           "style": "light"
          },
          "paper_bgcolor": "white",
          "plot_bgcolor": "#E5ECF6",
          "polar": {
           "angularaxis": {
            "gridcolor": "white",
            "linecolor": "white",
            "ticks": ""
           },
           "bgcolor": "#E5ECF6",
           "radialaxis": {
            "gridcolor": "white",
            "linecolor": "white",
            "ticks": ""
           }
          },
          "scene": {
           "xaxis": {
            "backgroundcolor": "#E5ECF6",
            "gridcolor": "white",
            "gridwidth": 2,
            "linecolor": "white",
            "showbackground": true,
            "ticks": "",
            "zerolinecolor": "white"
           },
           "yaxis": {
            "backgroundcolor": "#E5ECF6",
            "gridcolor": "white",
            "gridwidth": 2,
            "linecolor": "white",
            "showbackground": true,
            "ticks": "",
            "zerolinecolor": "white"
           },
           "zaxis": {
            "backgroundcolor": "#E5ECF6",
            "gridcolor": "white",
            "gridwidth": 2,
            "linecolor": "white",
            "showbackground": true,
            "ticks": "",
            "zerolinecolor": "white"
           }
          },
          "shapedefaults": {
           "line": {
            "color": "#2a3f5f"
           }
          },
          "ternary": {
           "aaxis": {
            "gridcolor": "white",
            "linecolor": "white",
            "ticks": ""
           },
           "baxis": {
            "gridcolor": "white",
            "linecolor": "white",
            "ticks": ""
           },
           "bgcolor": "#E5ECF6",
           "caxis": {
            "gridcolor": "white",
            "linecolor": "white",
            "ticks": ""
           }
          },
          "title": {
           "x": 0.05
          },
          "xaxis": {
           "automargin": true,
           "gridcolor": "white",
           "linecolor": "white",
           "ticks": "",
           "title": {
            "standoff": 15
           },
           "zerolinecolor": "white",
           "zerolinewidth": 2
          },
          "yaxis": {
           "automargin": true,
           "gridcolor": "white",
           "linecolor": "white",
           "ticks": "",
           "title": {
            "standoff": 15
           },
           "zerolinecolor": "white",
           "zerolinewidth": 2
          }
         }
        },
        "title": {
         "text": "Real vs. Synthetic Data for column limit_bal"
        },
        "xaxis": {
         "anchor": "y2",
         "domain": [
          0,
          1
         ],
         "title": {
          "text": "Value"
         },
         "zeroline": false
        },
        "yaxis": {
         "anchor": "free",
         "domain": [
          0,
          1
         ],
         "position": 0,
         "title": {
          "text": "Frequency"
         }
        }
       }
      }
     },
     "metadata": {},
     "output_type": "display_data"
    }
   ],
   "source": [
    "column = \"limit_bal\"\n",
    "\n",
    "fig = sdv_eval.get_column_plot(\n",
    "    real_data=real_data,\n",
    "    synthetic_data=synthetic_data,\n",
    "    column_name=column,\n",
    "    metadata=metadata)\n",
    "        \n",
    "fig.show()"
   ]
  },
  {
   "attachments": {},
   "cell_type": "markdown",
   "metadata": {},
   "source": [
    "## Classification models\n",
    "\n",
    "With a view to assess the quality of the generated samples, we train 2 classifiers. The first one is trained on the original data whereas the second one is trained on the augmented dataset. Note the latter contains more default entries than the former due to data augmentation. "
   ]
  },
  {
   "cell_type": "code",
   "execution_count": 301,
   "metadata": {},
   "outputs": [],
   "source": [
    "target_names = [\"No Default\", \"Default\"]\n",
    "\n",
    "clf = LogisticRegression(max_iter=1000)\n",
    "clf.fit(data.X_tr, data.y_tr)\n",
    "\n",
    "clf_report = get_clf_metrics(clf, data.X_tr, data.y_tr, data.X_te, data.y_te, target_names)"
   ]
  },
  {
   "cell_type": "code",
   "execution_count": 302,
   "metadata": {},
   "outputs": [],
   "source": [
    "X_tr_aug = np.concatenate([data.X_tr, data.X_syn])\n",
    "y_syn = np.ones(data.X_syn.shape[0])\n",
    "y_tr_aug = np.concatenate([data.y_tr, y_syn])\n",
    "\n",
    "clf_aug = LogisticRegression(max_iter=1000)\n",
    "clf_aug.fit(X_tr_aug, y_tr_aug) \n",
    "\n",
    "clf_aug_report = get_clf_metrics(clf_aug, X_tr_aug, y_tr_aug, data.X_te, data.y_te, target_names)"
   ]
  },
  {
   "cell_type": "code",
   "execution_count": 303,
   "metadata": {},
   "outputs": [
    {
     "data": {
      "text/html": [
       "<pre style=\"white-space:pre;overflow-x:auto;line-height:normal;font-family:Menlo,'DejaVu Sans Mono',consolas,'Courier New',monospace\"><span style=\"font-style: italic\">              Classification Report (train)              </span>\n",
       "┏━━━━━━━━━━━━━━━━━━━━━━┳━━━━━━━━━━━━━━━┳━━━━━━━━━━━━━━━━┓\n",
       "┃<span style=\"font-weight: bold\"> Metric               </span>┃<span style=\"font-weight: bold\"> Original Data </span>┃<span style=\"font-weight: bold\"> Augmented Data </span>┃\n",
       "┡━━━━━━━━━━━━━━━━━━━━━━╇━━━━━━━━━━━━━━━╇━━━━━━━━━━━━━━━━┩\n",
       "│ No Default precision │ 0.819         │ 0.816          │\n",
       "│ No Default recall    │ 0.972         │ 0.964          │\n",
       "│ No Default f1-score  │ 0.889         │ 0.884          │\n",
       "│ Default precision    │ 0.716         │ 0.919          │\n",
       "│ Default recall       │ 0.245         │ 0.655          │\n",
       "│ Default f1-score     │ 0.365         │ 0.765          │\n",
       "│ accuracy             │ 0.811         │ 0.811          │\n",
       "└──────────────────────┴───────────────┴────────────────┘\n",
       "</pre>\n"
      ],
      "text/plain": [
       "\u001b[3m              Classification Report (train)              \u001b[0m\n",
       "┏━━━━━━━━━━━━━━━━━━━━━━┳━━━━━━━━━━━━━━━┳━━━━━━━━━━━━━━━━┓\n",
       "┃\u001b[1m \u001b[0m\u001b[1mMetric              \u001b[0m\u001b[1m \u001b[0m┃\u001b[1m \u001b[0m\u001b[1mOriginal Data\u001b[0m\u001b[1m \u001b[0m┃\u001b[1m \u001b[0m\u001b[1mAugmented Data\u001b[0m\u001b[1m \u001b[0m┃\n",
       "┡━━━━━━━━━━━━━━━━━━━━━━╇━━━━━━━━━━━━━━━╇━━━━━━━━━━━━━━━━┩\n",
       "│ No Default precision │ 0.819         │ 0.816          │\n",
       "│ No Default recall    │ 0.972         │ 0.964          │\n",
       "│ No Default f1-score  │ 0.889         │ 0.884          │\n",
       "│ Default precision    │ 0.716         │ 0.919          │\n",
       "│ Default recall       │ 0.245         │ 0.655          │\n",
       "│ Default f1-score     │ 0.365         │ 0.765          │\n",
       "│ accuracy             │ 0.811         │ 0.811          │\n",
       "└──────────────────────┴───────────────┴────────────────┘\n"
      ]
     },
     "metadata": {},
     "output_type": "display_data"
    },
    {
     "data": {
      "text/html": [
       "<pre style=\"white-space:pre;overflow-x:auto;line-height:normal;font-family:Menlo,'DejaVu Sans Mono',consolas,'Courier New',monospace\"><span style=\"font-style: italic\">              Classification Report (test)               </span>\n",
       "┏━━━━━━━━━━━━━━━━━━━━━━┳━━━━━━━━━━━━━━━┳━━━━━━━━━━━━━━━━┓\n",
       "┃<span style=\"font-weight: bold\"> Metric               </span>┃<span style=\"font-weight: bold\"> Original Data </span>┃<span style=\"font-weight: bold\"> Augmented Data </span>┃\n",
       "┡━━━━━━━━━━━━━━━━━━━━━━╇━━━━━━━━━━━━━━━╇━━━━━━━━━━━━━━━━┩\n",
       "│ No Default precision │ 0.82          │ 0.825          │\n",
       "│ No Default recall    │ 0.971         │ 0.964          │\n",
       "│ No Default f1-score  │ 0.889         │ 0.889          │\n",
       "│ Default precision    │ 0.698         │ 0.676          │\n",
       "│ Default recall       │ 0.24          │ 0.268          │\n",
       "│ Default f1-score     │ 0.357         │ 0.384          │\n",
       "│ accuracy             │ 0.811         │ 0.811          │\n",
       "└──────────────────────┴───────────────┴────────────────┘\n",
       "</pre>\n"
      ],
      "text/plain": [
       "\u001b[3m              Classification Report (test)               \u001b[0m\n",
       "┏━━━━━━━━━━━━━━━━━━━━━━┳━━━━━━━━━━━━━━━┳━━━━━━━━━━━━━━━━┓\n",
       "┃\u001b[1m \u001b[0m\u001b[1mMetric              \u001b[0m\u001b[1m \u001b[0m┃\u001b[1m \u001b[0m\u001b[1mOriginal Data\u001b[0m\u001b[1m \u001b[0m┃\u001b[1m \u001b[0m\u001b[1mAugmented Data\u001b[0m\u001b[1m \u001b[0m┃\n",
       "┡━━━━━━━━━━━━━━━━━━━━━━╇━━━━━━━━━━━━━━━╇━━━━━━━━━━━━━━━━┩\n",
       "│ No Default precision │ 0.82          │ 0.825          │\n",
       "│ No Default recall    │ 0.971         │ 0.964          │\n",
       "│ No Default f1-score  │ 0.889         │ 0.889          │\n",
       "│ Default precision    │ 0.698         │ 0.676          │\n",
       "│ Default recall       │ 0.24          │ 0.268          │\n",
       "│ Default f1-score     │ 0.357         │ 0.384          │\n",
       "│ accuracy             │ 0.811         │ 0.811          │\n",
       "└──────────────────────┴───────────────┴────────────────┘\n"
      ]
     },
     "metadata": {},
     "output_type": "display_data"
    }
   ],
   "source": [
    "display_clf_metrics(clf_report, clf_aug_report)"
   ]
  },
  {
   "attachments": {},
   "cell_type": "markdown",
   "metadata": {},
   "source": [
    "## Other generators"
   ]
  },
  {
   "attachments": {},
   "cell_type": "markdown",
   "metadata": {},
   "source": [
    "### Fit generators"
   ]
  },
  {
   "cell_type": "code",
   "execution_count": 313,
   "metadata": {},
   "outputs": [],
   "source": [
    "generators = {\n",
    "    \"GaussianCopula\": GaussianCopulaSynthesizer(metadata),\n",
    "    \"CTGAN\": CTGANSynthesizer(metadata),\n",
    "    \"TVAE\": TVAESynthesizer(metadata),\n",
    "}"
   ]
  },
  {
   "cell_type": "code",
   "execution_count": 314,
   "metadata": {},
   "outputs": [
    {
     "data": {
      "application/vnd.jupyter.widget-view+json": {
       "model_id": "436e82c12af442c3880885407cf4ca8b",
       "version_major": 2,
       "version_minor": 0
      },
      "text/plain": [
       "  0%|          | 0/3 [00:00<?, ?it/s]"
      ]
     },
     "metadata": {},
     "output_type": "display_data"
    }
   ],
   "source": [
    "loop = tqdm(generators.items(), total=len(generators)) \n",
    "\n",
    "for key, generator in loop:\n",
    "    loop.set_description(f\"Fitting {key}...\") \n",
    "    generator.fit(real_data)\n",
    "    generators[key] = generator\n",
    "\n",
    "# for key, generator in generators.items():\n",
    "#     path = f\"backup/taiwan_payment/sdv/{key}.pkl\".lower()\n",
    "#     generator.save(path)"
   ]
  },
  {
   "cell_type": "code",
   "execution_count": 321,
   "metadata": {},
   "outputs": [],
   "source": [
    "generator_names = [\"GaussianCopula\", \"CTGAN\", \"TVAE\"]\n",
    "\n",
    "generators = {\n",
    "    key: load_pickle(f\"backup/taiwan_payment/sdv/{key}.pkl\".lower())\n",
    "    for key in generator_names\n",
    "}"
   ]
  },
  {
   "attachments": {},
   "cell_type": "markdown",
   "metadata": {},
   "source": [
    "### Generate synthetic samples"
   ]
  },
  {
   "cell_type": "code",
   "execution_count": 322,
   "metadata": {},
   "outputs": [],
   "source": [
    "n_samples = 5000\n",
    "\n",
    "synthetic_datasets = {\n",
    "    key: generator.sample(n_samples) for key, generator in generators.items()\n",
    "}"
   ]
  },
  {
   "cell_type": "code",
   "execution_count": 339,
   "metadata": {},
   "outputs": [],
   "source": [
    "feature_matrix_aug = {}\n",
    "\n",
    "for key, ds in synthetic_datasets.items():\n",
    "    x = data._preprocessor.transform(ds)\n",
    "    feature_matrix_aug[key] = np.concatenate([data.X_tr, x])\n",
    "\n",
    "target_aug = np.concatenate([data.y_tr, np.ones(n_samples)])"
   ]
  },
  {
   "attachments": {},
   "cell_type": "markdown",
   "metadata": {},
   "source": [
    "### Evaluate data quality "
   ]
  },
  {
   "cell_type": "code",
   "execution_count": 335,
   "metadata": {},
   "outputs": [
    {
     "name": "stderr",
     "output_type": "stream",
     "text": [
      "Creating report: 100%|██████████| 4/4 [00:08<00:00,  2.02s/it]\n"
     ]
    },
    {
     "name": "stdout",
     "output_type": "stream",
     "text": [
      "\n",
      "Overall Quality Score: 84.66%\n",
      "\n",
      "Properties:\n",
      "Column Shapes: 77.9%\n",
      "Column Pair Trends: 91.43%\n"
     ]
    },
    {
     "name": "stderr",
     "output_type": "stream",
     "text": [
      "Creating report: 100%|██████████| 4/4 [00:04<00:00,  1.16s/it]\n"
     ]
    },
    {
     "name": "stdout",
     "output_type": "stream",
     "text": [
      "\n",
      "Overall Quality Score: 90.22%\n",
      "\n",
      "Properties:\n",
      "Column Shapes: 88.11%\n",
      "Column Pair Trends: 92.34%\n"
     ]
    },
    {
     "name": "stderr",
     "output_type": "stream",
     "text": [
      "Creating report: 100%|██████████| 4/4 [00:05<00:00,  1.28s/it]\n"
     ]
    },
    {
     "name": "stdout",
     "output_type": "stream",
     "text": [
      "\n",
      "Overall Quality Score: 89.51%\n",
      "\n",
      "Properties:\n",
      "Column Shapes: 89.46%\n",
      "Column Pair Trends: 89.56%\n"
     ]
    }
   ],
   "source": [
    "quality_reports = {\n",
    "    key: sdv_eval.evaluate_quality(\n",
    "        real_data=real_data,\n",
    "        synthetic_data=ds,\n",
    "        metadata=metadata) \n",
    "    for key, ds in synthetic_datasets.items()\n",
    "}"
   ]
  },
  {
   "attachments": {},
   "cell_type": "markdown",
   "metadata": {},
   "source": [
    "### Augmented classification models"
   ]
  },
  {
   "cell_type": "code",
   "execution_count": 340,
   "metadata": {},
   "outputs": [],
   "source": [
    "clf_sdv = {\n",
    "    key: LogisticRegression(max_iter=1000).fit(X_aug, target_aug) \n",
    "    for key, X_aug in feature_matrix_aug.items()\n",
    "}"
   ]
  },
  {
   "cell_type": "code",
   "execution_count": 341,
   "metadata": {},
   "outputs": [],
   "source": [
    "clf_sdv_report = {\n",
    "    key: get_clf_metrics(clf, feature_matrix_aug[key], target_aug, data.X_te, data.y_te, target_names)\n",
    "    for key, clf in clf_sdv.items()\n",
    "}"
   ]
  },
  {
   "cell_type": "code",
   "execution_count": 362,
   "metadata": {},
   "outputs": [
    {
     "data": {
      "text/html": [
       "<pre style=\"white-space:pre;overflow-x:auto;line-height:normal;font-family:Menlo,'DejaVu Sans Mono',consolas,'Courier New',monospace\"><span style=\"font-style: italic\">    Classification report for GaussianCopula (train)     </span>\n",
       "┏━━━━━━━━━━━━━━━━━━━━━━┳━━━━━━━━━━━━━━━┳━━━━━━━━━━━━━━━━┓\n",
       "┃<span style=\"font-weight: bold\"> Metric               </span>┃<span style=\"font-weight: bold\"> Original Data </span>┃<span style=\"font-weight: bold\"> Augmented Data </span>┃\n",
       "┡━━━━━━━━━━━━━━━━━━━━━━╇━━━━━━━━━━━━━━━╇━━━━━━━━━━━━━━━━┩\n",
       "│ No Default precision │ 0.819         │ 0.821          │\n",
       "│ No Default recall    │ 0.972         │ 0.932          │\n",
       "│ No Default f1-score  │ 0.889         │ 0.873          │\n",
       "│ Default precision    │ 0.716         │ 0.836          │\n",
       "│ Default recall       │ 0.245         │ 0.632          │\n",
       "│ Default f1-score     │ 0.365         │ 0.72           │\n",
       "│ accuracy             │ 0.811         │ 0.811          │\n",
       "└──────────────────────┴───────────────┴────────────────┘\n",
       "</pre>\n"
      ],
      "text/plain": [
       "\u001b[3m    Classification report for GaussianCopula (train)     \u001b[0m\n",
       "┏━━━━━━━━━━━━━━━━━━━━━━┳━━━━━━━━━━━━━━━┳━━━━━━━━━━━━━━━━┓\n",
       "┃\u001b[1m \u001b[0m\u001b[1mMetric              \u001b[0m\u001b[1m \u001b[0m┃\u001b[1m \u001b[0m\u001b[1mOriginal Data\u001b[0m\u001b[1m \u001b[0m┃\u001b[1m \u001b[0m\u001b[1mAugmented Data\u001b[0m\u001b[1m \u001b[0m┃\n",
       "┡━━━━━━━━━━━━━━━━━━━━━━╇━━━━━━━━━━━━━━━╇━━━━━━━━━━━━━━━━┩\n",
       "│ No Default precision │ 0.819         │ 0.821          │\n",
       "│ No Default recall    │ 0.972         │ 0.932          │\n",
       "│ No Default f1-score  │ 0.889         │ 0.873          │\n",
       "│ Default precision    │ 0.716         │ 0.836          │\n",
       "│ Default recall       │ 0.245         │ 0.632          │\n",
       "│ Default f1-score     │ 0.365         │ 0.72           │\n",
       "│ accuracy             │ 0.811         │ 0.811          │\n",
       "└──────────────────────┴───────────────┴────────────────┘\n"
      ]
     },
     "metadata": {},
     "output_type": "display_data"
    },
    {
     "data": {
      "text/html": [
       "<pre style=\"white-space:pre;overflow-x:auto;line-height:normal;font-family:Menlo,'DejaVu Sans Mono',consolas,'Courier New',monospace\"><span style=\"font-style: italic\">     Classification report for GaussianCopula (test)     </span>\n",
       "┏━━━━━━━━━━━━━━━━━━━━━━┳━━━━━━━━━━━━━━━┳━━━━━━━━━━━━━━━━┓\n",
       "┃<span style=\"font-weight: bold\"> Metric               </span>┃<span style=\"font-weight: bold\"> Original Data </span>┃<span style=\"font-weight: bold\"> Augmented Data </span>┃\n",
       "┡━━━━━━━━━━━━━━━━━━━━━━╇━━━━━━━━━━━━━━━╇━━━━━━━━━━━━━━━━┩\n",
       "│ No Default precision │ 0.82          │ 0.823          │\n",
       "│ No Default recall    │ 0.971         │ 0.931          │\n",
       "│ No Default f1-score  │ 0.889         │ 0.873          │\n",
       "│ Default precision    │ 0.698         │ 0.535          │\n",
       "│ Default recall       │ 0.24          │ 0.285          │\n",
       "│ Default f1-score     │ 0.357         │ 0.372          │\n",
       "│ accuracy             │ 0.811         │ 0.811          │\n",
       "└──────────────────────┴───────────────┴────────────────┘\n",
       "</pre>\n"
      ],
      "text/plain": [
       "\u001b[3m     Classification report for GaussianCopula (test)     \u001b[0m\n",
       "┏━━━━━━━━━━━━━━━━━━━━━━┳━━━━━━━━━━━━━━━┳━━━━━━━━━━━━━━━━┓\n",
       "┃\u001b[1m \u001b[0m\u001b[1mMetric              \u001b[0m\u001b[1m \u001b[0m┃\u001b[1m \u001b[0m\u001b[1mOriginal Data\u001b[0m\u001b[1m \u001b[0m┃\u001b[1m \u001b[0m\u001b[1mAugmented Data\u001b[0m\u001b[1m \u001b[0m┃\n",
       "┡━━━━━━━━━━━━━━━━━━━━━━╇━━━━━━━━━━━━━━━╇━━━━━━━━━━━━━━━━┩\n",
       "│ No Default precision │ 0.82          │ 0.823          │\n",
       "│ No Default recall    │ 0.971         │ 0.931          │\n",
       "│ No Default f1-score  │ 0.889         │ 0.873          │\n",
       "│ Default precision    │ 0.698         │ 0.535          │\n",
       "│ Default recall       │ 0.24          │ 0.285          │\n",
       "│ Default f1-score     │ 0.357         │ 0.372          │\n",
       "│ accuracy             │ 0.811         │ 0.811          │\n",
       "└──────────────────────┴───────────────┴────────────────┘\n"
      ]
     },
     "metadata": {},
     "output_type": "display_data"
    },
    {
     "name": "stdout",
     "output_type": "stream",
     "text": [
      "----------------------------------------------------------------------\n"
     ]
    },
    {
     "data": {
      "text/html": [
       "<pre style=\"white-space:pre;overflow-x:auto;line-height:normal;font-family:Menlo,'DejaVu Sans Mono',consolas,'Courier New',monospace\"><span style=\"font-style: italic\">         Classification report for CTGAN (train)         </span>\n",
       "┏━━━━━━━━━━━━━━━━━━━━━━┳━━━━━━━━━━━━━━━┳━━━━━━━━━━━━━━━━┓\n",
       "┃<span style=\"font-weight: bold\"> Metric               </span>┃<span style=\"font-weight: bold\"> Original Data </span>┃<span style=\"font-weight: bold\"> Augmented Data </span>┃\n",
       "┡━━━━━━━━━━━━━━━━━━━━━━╇━━━━━━━━━━━━━━━╇━━━━━━━━━━━━━━━━┩\n",
       "│ No Default precision │ 0.819         │ 0.776          │\n",
       "│ No Default recall    │ 0.972         │ 0.922          │\n",
       "│ No Default f1-score  │ 0.889         │ 0.843          │\n",
       "│ Default precision    │ 0.716         │ 0.786          │\n",
       "│ Default recall       │ 0.245         │ 0.519          │\n",
       "│ Default f1-score     │ 0.365         │ 0.625          │\n",
       "│ accuracy             │ 0.811         │ 0.811          │\n",
       "└──────────────────────┴───────────────┴────────────────┘\n",
       "</pre>\n"
      ],
      "text/plain": [
       "\u001b[3m         Classification report for CTGAN (train)         \u001b[0m\n",
       "┏━━━━━━━━━━━━━━━━━━━━━━┳━━━━━━━━━━━━━━━┳━━━━━━━━━━━━━━━━┓\n",
       "┃\u001b[1m \u001b[0m\u001b[1mMetric              \u001b[0m\u001b[1m \u001b[0m┃\u001b[1m \u001b[0m\u001b[1mOriginal Data\u001b[0m\u001b[1m \u001b[0m┃\u001b[1m \u001b[0m\u001b[1mAugmented Data\u001b[0m\u001b[1m \u001b[0m┃\n",
       "┡━━━━━━━━━━━━━━━━━━━━━━╇━━━━━━━━━━━━━━━╇━━━━━━━━━━━━━━━━┩\n",
       "│ No Default precision │ 0.819         │ 0.776          │\n",
       "│ No Default recall    │ 0.972         │ 0.922          │\n",
       "│ No Default f1-score  │ 0.889         │ 0.843          │\n",
       "│ Default precision    │ 0.716         │ 0.786          │\n",
       "│ Default recall       │ 0.245         │ 0.519          │\n",
       "│ Default f1-score     │ 0.365         │ 0.625          │\n",
       "│ accuracy             │ 0.811         │ 0.811          │\n",
       "└──────────────────────┴───────────────┴────────────────┘\n"
      ]
     },
     "metadata": {},
     "output_type": "display_data"
    },
    {
     "data": {
      "text/html": [
       "<pre style=\"white-space:pre;overflow-x:auto;line-height:normal;font-family:Menlo,'DejaVu Sans Mono',consolas,'Courier New',monospace\"><span style=\"font-style: italic\">         Classification report for CTGAN (test)          </span>\n",
       "┏━━━━━━━━━━━━━━━━━━━━━━┳━━━━━━━━━━━━━━━┳━━━━━━━━━━━━━━━━┓\n",
       "┃<span style=\"font-weight: bold\"> Metric               </span>┃<span style=\"font-weight: bold\"> Original Data </span>┃<span style=\"font-weight: bold\"> Augmented Data </span>┃\n",
       "┡━━━━━━━━━━━━━━━━━━━━━━╇━━━━━━━━━━━━━━━╇━━━━━━━━━━━━━━━━┩\n",
       "│ No Default precision │ 0.82          │ 0.843          │\n",
       "│ No Default recall    │ 0.971         │ 0.922          │\n",
       "│ No Default f1-score  │ 0.889         │ 0.881          │\n",
       "│ Default precision    │ 0.698         │ 0.581          │\n",
       "│ Default recall       │ 0.24          │ 0.388          │\n",
       "│ Default f1-score     │ 0.357         │ 0.465          │\n",
       "│ accuracy             │ 0.811         │ 0.811          │\n",
       "└──────────────────────┴───────────────┴────────────────┘\n",
       "</pre>\n"
      ],
      "text/plain": [
       "\u001b[3m         Classification report for CTGAN (test)          \u001b[0m\n",
       "┏━━━━━━━━━━━━━━━━━━━━━━┳━━━━━━━━━━━━━━━┳━━━━━━━━━━━━━━━━┓\n",
       "┃\u001b[1m \u001b[0m\u001b[1mMetric              \u001b[0m\u001b[1m \u001b[0m┃\u001b[1m \u001b[0m\u001b[1mOriginal Data\u001b[0m\u001b[1m \u001b[0m┃\u001b[1m \u001b[0m\u001b[1mAugmented Data\u001b[0m\u001b[1m \u001b[0m┃\n",
       "┡━━━━━━━━━━━━━━━━━━━━━━╇━━━━━━━━━━━━━━━╇━━━━━━━━━━━━━━━━┩\n",
       "│ No Default precision │ 0.82          │ 0.843          │\n",
       "│ No Default recall    │ 0.971         │ 0.922          │\n",
       "│ No Default f1-score  │ 0.889         │ 0.881          │\n",
       "│ Default precision    │ 0.698         │ 0.581          │\n",
       "│ Default recall       │ 0.24          │ 0.388          │\n",
       "│ Default f1-score     │ 0.357         │ 0.465          │\n",
       "│ accuracy             │ 0.811         │ 0.811          │\n",
       "└──────────────────────┴───────────────┴────────────────┘\n"
      ]
     },
     "metadata": {},
     "output_type": "display_data"
    },
    {
     "name": "stdout",
     "output_type": "stream",
     "text": [
      "----------------------------------------------------------------------\n"
     ]
    },
    {
     "data": {
      "text/html": [
       "<pre style=\"white-space:pre;overflow-x:auto;line-height:normal;font-family:Menlo,'DejaVu Sans Mono',consolas,'Courier New',monospace\"><span style=\"font-style: italic\">         Classification report for TVAE (train)          </span>\n",
       "┏━━━━━━━━━━━━━━━━━━━━━━┳━━━━━━━━━━━━━━━┳━━━━━━━━━━━━━━━━┓\n",
       "┃<span style=\"font-weight: bold\"> Metric               </span>┃<span style=\"font-weight: bold\"> Original Data </span>┃<span style=\"font-weight: bold\"> Augmented Data </span>┃\n",
       "┡━━━━━━━━━━━━━━━━━━━━━━╇━━━━━━━━━━━━━━━╇━━━━━━━━━━━━━━━━┩\n",
       "│ No Default precision │ 0.819         │ 0.755          │\n",
       "│ No Default recall    │ 0.972         │ 0.901          │\n",
       "│ No Default f1-score  │ 0.889         │ 0.822          │\n",
       "│ Default precision    │ 0.716         │ 0.724          │\n",
       "│ Default recall       │ 0.245         │ 0.471          │\n",
       "│ Default f1-score     │ 0.365         │ 0.571          │\n",
       "│ accuracy             │ 0.811         │ 0.811          │\n",
       "└──────────────────────┴───────────────┴────────────────┘\n",
       "</pre>\n"
      ],
      "text/plain": [
       "\u001b[3m         Classification report for TVAE (train)          \u001b[0m\n",
       "┏━━━━━━━━━━━━━━━━━━━━━━┳━━━━━━━━━━━━━━━┳━━━━━━━━━━━━━━━━┓\n",
       "┃\u001b[1m \u001b[0m\u001b[1mMetric              \u001b[0m\u001b[1m \u001b[0m┃\u001b[1m \u001b[0m\u001b[1mOriginal Data\u001b[0m\u001b[1m \u001b[0m┃\u001b[1m \u001b[0m\u001b[1mAugmented Data\u001b[0m\u001b[1m \u001b[0m┃\n",
       "┡━━━━━━━━━━━━━━━━━━━━━━╇━━━━━━━━━━━━━━━╇━━━━━━━━━━━━━━━━┩\n",
       "│ No Default precision │ 0.819         │ 0.755          │\n",
       "│ No Default recall    │ 0.972         │ 0.901          │\n",
       "│ No Default f1-score  │ 0.889         │ 0.822          │\n",
       "│ Default precision    │ 0.716         │ 0.724          │\n",
       "│ Default recall       │ 0.245         │ 0.471          │\n",
       "│ Default f1-score     │ 0.365         │ 0.571          │\n",
       "│ accuracy             │ 0.811         │ 0.811          │\n",
       "└──────────────────────┴───────────────┴────────────────┘\n"
      ]
     },
     "metadata": {},
     "output_type": "display_data"
    },
    {
     "data": {
      "text/html": [
       "<pre style=\"white-space:pre;overflow-x:auto;line-height:normal;font-family:Menlo,'DejaVu Sans Mono',consolas,'Courier New',monospace\"><span style=\"font-style: italic\">          Classification report for TVAE (test)          </span>\n",
       "┏━━━━━━━━━━━━━━━━━━━━━━┳━━━━━━━━━━━━━━━┳━━━━━━━━━━━━━━━━┓\n",
       "┃<span style=\"font-weight: bold\"> Metric               </span>┃<span style=\"font-weight: bold\"> Original Data </span>┃<span style=\"font-weight: bold\"> Augmented Data </span>┃\n",
       "┡━━━━━━━━━━━━━━━━━━━━━━╇━━━━━━━━━━━━━━━╇━━━━━━━━━━━━━━━━┩\n",
       "│ No Default precision │ 0.82          │ 0.842          │\n",
       "│ No Default recall    │ 0.971         │ 0.901          │\n",
       "│ No Default f1-score  │ 0.889         │ 0.87           │\n",
       "│ Default precision    │ 0.698         │ 0.528          │\n",
       "│ Default recall       │ 0.24          │ 0.396          │\n",
       "│ Default f1-score     │ 0.357         │ 0.453          │\n",
       "│ accuracy             │ 0.811         │ 0.811          │\n",
       "└──────────────────────┴───────────────┴────────────────┘\n",
       "</pre>\n"
      ],
      "text/plain": [
       "\u001b[3m          Classification report for TVAE (test)          \u001b[0m\n",
       "┏━━━━━━━━━━━━━━━━━━━━━━┳━━━━━━━━━━━━━━━┳━━━━━━━━━━━━━━━━┓\n",
       "┃\u001b[1m \u001b[0m\u001b[1mMetric              \u001b[0m\u001b[1m \u001b[0m┃\u001b[1m \u001b[0m\u001b[1mOriginal Data\u001b[0m\u001b[1m \u001b[0m┃\u001b[1m \u001b[0m\u001b[1mAugmented Data\u001b[0m\u001b[1m \u001b[0m┃\n",
       "┡━━━━━━━━━━━━━━━━━━━━━━╇━━━━━━━━━━━━━━━╇━━━━━━━━━━━━━━━━┩\n",
       "│ No Default precision │ 0.82          │ 0.842          │\n",
       "│ No Default recall    │ 0.971         │ 0.901          │\n",
       "│ No Default f1-score  │ 0.889         │ 0.87           │\n",
       "│ Default precision    │ 0.698         │ 0.528          │\n",
       "│ Default recall       │ 0.24          │ 0.396          │\n",
       "│ Default f1-score     │ 0.357         │ 0.453          │\n",
       "│ accuracy             │ 0.811         │ 0.811          │\n",
       "└──────────────────────┴───────────────┴────────────────┘\n"
      ]
     },
     "metadata": {},
     "output_type": "display_data"
    },
    {
     "name": "stdout",
     "output_type": "stream",
     "text": [
      "----------------------------------------------------------------------\n"
     ]
    },
    {
     "data": {
      "text/html": [
       "<pre style=\"white-space:pre;overflow-x:auto;line-height:normal;font-family:Menlo,'DejaVu Sans Mono',consolas,'Courier New',monospace\"><span style=\"font-style: italic\">       Classification report for scorenet (train)        </span>\n",
       "┏━━━━━━━━━━━━━━━━━━━━━━┳━━━━━━━━━━━━━━━┳━━━━━━━━━━━━━━━━┓\n",
       "┃<span style=\"font-weight: bold\"> Metric               </span>┃<span style=\"font-weight: bold\"> Original Data </span>┃<span style=\"font-weight: bold\"> Augmented Data </span>┃\n",
       "┡━━━━━━━━━━━━━━━━━━━━━━╇━━━━━━━━━━━━━━━╇━━━━━━━━━━━━━━━━┩\n",
       "│ No Default precision │ 0.819         │ 0.816          │\n",
       "│ No Default recall    │ 0.972         │ 0.964          │\n",
       "│ No Default f1-score  │ 0.889         │ 0.884          │\n",
       "│ Default precision    │ 0.716         │ 0.919          │\n",
       "│ Default recall       │ 0.245         │ 0.655          │\n",
       "│ Default f1-score     │ 0.365         │ 0.765          │\n",
       "│ accuracy             │ 0.811         │ 0.811          │\n",
       "└──────────────────────┴───────────────┴────────────────┘\n",
       "</pre>\n"
      ],
      "text/plain": [
       "\u001b[3m       Classification report for scorenet (train)        \u001b[0m\n",
       "┏━━━━━━━━━━━━━━━━━━━━━━┳━━━━━━━━━━━━━━━┳━━━━━━━━━━━━━━━━┓\n",
       "┃\u001b[1m \u001b[0m\u001b[1mMetric              \u001b[0m\u001b[1m \u001b[0m┃\u001b[1m \u001b[0m\u001b[1mOriginal Data\u001b[0m\u001b[1m \u001b[0m┃\u001b[1m \u001b[0m\u001b[1mAugmented Data\u001b[0m\u001b[1m \u001b[0m┃\n",
       "┡━━━━━━━━━━━━━━━━━━━━━━╇━━━━━━━━━━━━━━━╇━━━━━━━━━━━━━━━━┩\n",
       "│ No Default precision │ 0.819         │ 0.816          │\n",
       "│ No Default recall    │ 0.972         │ 0.964          │\n",
       "│ No Default f1-score  │ 0.889         │ 0.884          │\n",
       "│ Default precision    │ 0.716         │ 0.919          │\n",
       "│ Default recall       │ 0.245         │ 0.655          │\n",
       "│ Default f1-score     │ 0.365         │ 0.765          │\n",
       "│ accuracy             │ 0.811         │ 0.811          │\n",
       "└──────────────────────┴───────────────┴────────────────┘\n"
      ]
     },
     "metadata": {},
     "output_type": "display_data"
    },
    {
     "data": {
      "text/html": [
       "<pre style=\"white-space:pre;overflow-x:auto;line-height:normal;font-family:Menlo,'DejaVu Sans Mono',consolas,'Courier New',monospace\"><span style=\"font-style: italic\">        Classification report for scorenet (test)        </span>\n",
       "┏━━━━━━━━━━━━━━━━━━━━━━┳━━━━━━━━━━━━━━━┳━━━━━━━━━━━━━━━━┓\n",
       "┃<span style=\"font-weight: bold\"> Metric               </span>┃<span style=\"font-weight: bold\"> Original Data </span>┃<span style=\"font-weight: bold\"> Augmented Data </span>┃\n",
       "┡━━━━━━━━━━━━━━━━━━━━━━╇━━━━━━━━━━━━━━━╇━━━━━━━━━━━━━━━━┩\n",
       "│ No Default precision │ 0.82          │ 0.825          │\n",
       "│ No Default recall    │ 0.971         │ 0.964          │\n",
       "│ No Default f1-score  │ 0.889         │ 0.889          │\n",
       "│ Default precision    │ 0.698         │ 0.676          │\n",
       "│ Default recall       │ 0.24          │ 0.268          │\n",
       "│ Default f1-score     │ 0.357         │ 0.384          │\n",
       "│ accuracy             │ 0.811         │ 0.811          │\n",
       "└──────────────────────┴───────────────┴────────────────┘\n",
       "</pre>\n"
      ],
      "text/plain": [
       "\u001b[3m        Classification report for scorenet (test)        \u001b[0m\n",
       "┏━━━━━━━━━━━━━━━━━━━━━━┳━━━━━━━━━━━━━━━┳━━━━━━━━━━━━━━━━┓\n",
       "┃\u001b[1m \u001b[0m\u001b[1mMetric              \u001b[0m\u001b[1m \u001b[0m┃\u001b[1m \u001b[0m\u001b[1mOriginal Data\u001b[0m\u001b[1m \u001b[0m┃\u001b[1m \u001b[0m\u001b[1mAugmented Data\u001b[0m\u001b[1m \u001b[0m┃\n",
       "┡━━━━━━━━━━━━━━━━━━━━━━╇━━━━━━━━━━━━━━━╇━━━━━━━━━━━━━━━━┩\n",
       "│ No Default precision │ 0.82          │ 0.825          │\n",
       "│ No Default recall    │ 0.971         │ 0.964          │\n",
       "│ No Default f1-score  │ 0.889         │ 0.889          │\n",
       "│ Default precision    │ 0.698         │ 0.676          │\n",
       "│ Default recall       │ 0.24          │ 0.268          │\n",
       "│ Default f1-score     │ 0.357         │ 0.384          │\n",
       "│ accuracy             │ 0.811         │ 0.811          │\n",
       "└──────────────────────┴───────────────┴────────────────┘\n"
      ]
     },
     "metadata": {},
     "output_type": "display_data"
    }
   ],
   "source": [
    "for key, report in clf_sdv_report.items():\n",
    "    title = f\"Classification report for {key}\"\n",
    "    display_clf_metrics(clf_report, report, title=title)\n",
    "    print(\"-\"*70)\n",
    "\n",
    "display_clf_metrics(clf_report, clf_aug_report, title=f\"Classification report for {CFG_TYPE}\")"
   ]
  },
  {
   "cell_type": "code",
   "execution_count": null,
   "metadata": {},
   "outputs": [],
   "source": []
  }
 ],
 "metadata": {
  "kernelspec": {
   "display_name": "env",
   "language": "python",
   "name": "python3"
  },
  "language_info": {
   "codemirror_mode": {
    "name": "ipython",
    "version": 3
   },
   "file_extension": ".py",
   "mimetype": "text/x-python",
   "name": "python",
   "nbconvert_exporter": "python",
   "pygments_lexer": "ipython3",
   "version": "3.9.9"
  },
  "orig_nbformat": 4
 },
 "nbformat": 4,
 "nbformat_minor": 2
}
