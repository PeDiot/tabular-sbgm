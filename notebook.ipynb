{
 "cells": [
  {
   "attachments": {},
   "cell_type": "markdown",
   "metadata": {},
   "source": [
    "# Tabular data augmentation with score-based generative models \n",
    "\n",
    "The selected dataset is the well-known german credit [dataset](https://github.com/Giskard-AI/giskard-client/blob/main/sample_data/classification/credit/german_credit_prepared.csv) which contains data related to bank customers' attributes as well as a variable indicating whether they defaulted on their credit. This dataset is usually used in classification models in order to build credit scoring models. \n",
    "\n",
    "However, the small amount of entries and the imbalanced class issue can make it difficult to build a scorer which correctly detects default credits. One solution to this problem is to synthetically generate data to increase the number of default credits. For this purpose we use **score-based generative modeling with multiple noise perturbations**. The main idea is to represent a distribution by modeling its score function, which can be estimated by training a score-based model of free-form architectures with score matching.\n",
    "\n",
    "It consists in two steps: \n",
    "\n",
    "1. Learn score functions using **gradients of log probability density functions** on a large number of noise-perturbed data distributions\n",
    "2. Generate samples with **Langevin-type sampling**"
   ]
  },
  {
   "attachments": {},
   "cell_type": "markdown",
   "metadata": {},
   "source": [
    "## Setup"
   ]
  },
  {
   "cell_type": "code",
   "execution_count": 460,
   "metadata": {},
   "outputs": [
    {
     "name": "stdout",
     "output_type": "stream",
     "text": [
      "The autoreload extension is already loaded. To reload it, use:\n",
      "  %reload_ext autoreload\n"
     ]
    }
   ],
   "source": [
    "%load_ext autoreload\n",
    "%autoreload 2"
   ]
  },
  {
   "cell_type": "code",
   "execution_count": 461,
   "metadata": {},
   "outputs": [],
   "source": [
    "import pandas as pd\n",
    "import numpy as np \n",
    "\n",
    "from sklearn.linear_model import LogisticRegression\n",
    "from sklearn.metrics import classification_report"
   ]
  },
  {
   "cell_type": "code",
   "execution_count": 477,
   "metadata": {},
   "outputs": [],
   "source": [
    "from src.utils import load_config, get_clf_metrics, display_clf_metrics\n",
    "from src.data import Data\n",
    "from src.runner.scorenet_runner import ScoreNetRunner\n",
    "from src.runner.anneal_runner import AnnealRunner"
   ]
  },
  {
   "attachments": {},
   "cell_type": "markdown",
   "metadata": {},
   "source": [
    "## Load original data"
   ]
  },
  {
   "cell_type": "code",
   "execution_count": 435,
   "metadata": {},
   "outputs": [
    {
     "name": "stdout",
     "output_type": "stream",
     "text": [
      "<class 'pandas.core.frame.DataFrame'>\n",
      "RangeIndex: 1000 entries, 0 to 999\n",
      "Data columns (total 22 columns):\n",
      " #   Column                      Non-Null Count  Dtype \n",
      "---  ------                      --------------  ----- \n",
      " 0   default                     1000 non-null   object\n",
      " 1   account_check_status        1000 non-null   object\n",
      " 2   duration_in_month           1000 non-null   int64 \n",
      " 3   credit_history              1000 non-null   object\n",
      " 4   purpose                     1000 non-null   object\n",
      " 5   credit_amount               1000 non-null   int64 \n",
      " 6   savings                     1000 non-null   object\n",
      " 7   present_employment_since    1000 non-null   object\n",
      " 8   installment_as_income_perc  1000 non-null   int64 \n",
      " 9   sex                         1000 non-null   object\n",
      " 10  personal_status             1000 non-null   object\n",
      " 11  other_debtors               1000 non-null   object\n",
      " 12  present_residence_since     1000 non-null   int64 \n",
      " 13  property                    1000 non-null   object\n",
      " 14  age                         1000 non-null   int64 \n",
      " 15  other_installment_plans     1000 non-null   object\n",
      " 16  housing                     1000 non-null   object\n",
      " 17  credits_this_bank           1000 non-null   int64 \n",
      " 18  job                         1000 non-null   object\n",
      " 19  people_under_maintenance    1000 non-null   int64 \n",
      " 20  telephone                   1000 non-null   object\n",
      " 21  foreign_worker              1000 non-null   object\n",
      "dtypes: int64(7), object(15)\n",
      "memory usage: 172.0+ KB\n",
      "None\n"
     ]
    },
    {
     "data": {
      "text/plain": [
       "Not default    0.7\n",
       "Default        0.3\n",
       "Name: default, dtype: float64"
      ]
     },
     "execution_count": 435,
     "metadata": {},
     "output_type": "execute_result"
    }
   ],
   "source": [
    "df = pd.read_csv(\"datasets/credit_data.csv\")\n",
    "\n",
    "print(df.info())\n",
    "df.default.value_counts(normalize=True, dropna=False)"
   ]
  },
  {
   "attachments": {},
   "cell_type": "markdown",
   "metadata": {},
   "source": [
    "Entries which have defaulted on their credit only account for 30% of the entire dataset. We thus focus the generative process on these samples. "
   ]
  },
  {
   "attachments": {},
   "cell_type": "markdown",
   "metadata": {},
   "source": [
    "## Data preparation"
   ]
  },
  {
   "cell_type": "code",
   "execution_count": 442,
   "metadata": {},
   "outputs": [],
   "source": [
    "CFG_TYPE = \"anneal\"\n",
    "cfg = load_config(f\"configs/{CFG_TYPE}.yaml\") "
   ]
  },
  {
   "cell_type": "code",
   "execution_count": 443,
   "metadata": {},
   "outputs": [
    {
     "name": "stdout",
     "output_type": "stream",
     "text": [
      "Data(target=default, classification=True, reference=Default, test_prop=0.2, batch_size=32)\n"
     ]
    }
   ],
   "source": [
    "data = Data(cfg[\"data\"])\n",
    "print(data) \n",
    "\n",
    "data.preprocess(df)\n",
    "data.make_loaders()"
   ]
  },
  {
   "attachments": {},
   "cell_type": "markdown",
   "metadata": {},
   "source": [
    "## Train generator\n",
    "\n",
    "The loss function used to train the score-based generator depends on the `algo` argument entered in [`config`](configs/): \n",
    "\n",
    "- `dsm` means we use the denoising score matching objective as loss function\n",
    "- `ssm` means we use sliced score matching objective to greatly scale up the computation of score matching. \n",
    "\n",
    "One can also choose to add multiple noise perturbations with the [`anneal`](configs/anneal.yaml) configuration.\n",
    "\n",
    "More details can be found [here](https://yang-song.net/blog/2019/ssm/). "
   ]
  },
  {
   "cell_type": "code",
   "execution_count": 444,
   "metadata": {},
   "outputs": [
    {
     "name": "stdout",
     "output_type": "stream",
     "text": [
      "ScoreNetRunner(config={'data': {'numeric': ['duration_in_month', 'credit_amount', 'installment_as_income_perc', 'present_residence_since', 'age', 'credits_this_bank', 'people_under_maintenance'], 'category': ['default', 'account_check_status', 'credit_history', 'purpose', 'savings', 'present_employment_since', 'sex', 'personal_status', 'other_debtors', 'property', 'other_installment_plans', 'housing', 'job', 'telephone', 'foreign_worker'], 'target': 'default', 'target_class': 'Default', 'classification': True, 'test_prop': 0.2, 'batch_size': 32, 'logit_transform': False}, 'model': {'input_layer': [['Linear', 48, 512], ['Dropout', 0.3], ['Tanh']], 'hidden_layers': [['Linear', 512, 256], ['Dropout', 0.2], ['Tanh'], ['Linear', 256, 128], ['Dropout', 0.1], ['ReLU']], 'output_layer': [['Linear', 128, 48]]}, 'training': {'algo': 'dsm', 'anneal_power': 2.0, 'sigma_begin': 1, 'sigma_end': 0.01, 'n_sigmas': 100, 'n_particles': 1, 'n_epochs': 5000, 'snapshot_freq': 2500, 'n_steps_min': 2500, 'eval_freq': 250, 'stop_threshold': 0.0001, 'n_steps_no_improvement': 2, 'resume_training': False}, 'optim': {'optimizer': {'weight_decay': 0.0, 'name': 'Adam', 'lr': 0.001, 'beta1': 0.9}, 'scheduler': {'name': 'ExponentialLR', 'gamma': 0.9}, 'use_scheduler': False}, 'sampling': {'n_steps_each': 100, 'step_lr': 2e-05, 'n_batches': 3}, 'backup': {'save': True, 'dir': 'backup/credit/annealscorenet/dsm', 'checkpoint': -1}, 'device': 'cpu'})\n"
     ]
    },
    {
     "data": {
      "application/vnd.jupyter.widget-view+json": {
       "model_id": "77c4630abbf6442b9a8e20a2b83d05d8",
       "version_major": 2,
       "version_minor": 0
      },
      "text/plain": [
       "  0%|          | 0/5000 [00:00<?, ?it/s]"
      ]
     },
     "metadata": {},
     "output_type": "display_data"
    },
    {
     "name": "stdout",
     "output_type": "stream",
     "text": [
      "Saved checkpoint at backup/credit/annealscorenet/dsm/checkpoint_2500.pth. Saved model config at backup/credit/annealscorenet/dsm/model_cfg.yml.\n",
      "Saved checkpoint at backup/credit/annealscorenet/dsm/checkpoint_5000.pth.\n",
      "Saved checkpoint at backup/credit/annealscorenet/dsm/checkpoint_7500.pth.\n",
      "Saved checkpoint at backup/credit/annealscorenet/dsm/checkpoint_10000.pth.\n",
      "Saved checkpoint at backup/credit/annealscorenet/dsm/checkpoint_12500.pth.\n",
      "Saved checkpoint at backup/credit/annealscorenet/dsm/checkpoint_15000.pth.\n",
      "Saved checkpoint at backup/credit/annealscorenet/dsm/checkpoint_17500.pth.\n",
      "Saved checkpoint at backup/credit/annealscorenet/dsm/checkpoint_20000.pth.\n",
      "Saved checkpoint at backup/credit/annealscorenet/dsm/checkpoint_22500.pth.\n",
      "Saved checkpoint at backup/credit/annealscorenet/dsm/checkpoint_25000.pth.\n",
      "Saved checkpoint at backup/credit/annealscorenet/dsm/checkpoint_27500.pth.\n",
      "Saved checkpoint at backup/credit/annealscorenet/dsm/checkpoint_30000.pth.\n",
      "Saved checkpoint at backup/credit/annealscorenet/dsm/checkpoint_32500.pth.\n",
      "Saved checkpoint at backup/credit/annealscorenet/dsm/checkpoint_35000.pth.\n",
      "Saved checkpoint at backup/credit/annealscorenet/dsm/checkpoint_37500.pth.\n",
      "Saved checkpoint at backup/credit/annealscorenet/dsm/checkpoint_40000.pth.\n",
      "Saved checkpoint at backup/credit/annealscorenet/dsm/checkpoint_40000.pth.\n",
      "Saved pickle object to backup/credit/annealscorenet/dsm/loss.pkl\n"
     ]
    }
   ],
   "source": [
    "if CFG_TYPE == \"scorenet\":\n",
    "    runner = ScoreNetRunner(cfg, data)\n",
    "\n",
    "elif CFG_TYPE == \"anneal\":\n",
    "    runner = AnnealRunner(cfg, data) \n",
    "\n",
    "print(runner) \n",
    "\n",
    "if not cfg[\"training\"][\"resume_training\"]:\n",
    "    loss_tracker = runner.train()"
   ]
  },
  {
   "cell_type": "code",
   "execution_count": 487,
   "metadata": {},
   "outputs": [
    {
     "data": {
      "image/png": "[encoded data removed]",
      "text/plain": [
       "<Figure size 900x500 with 1 Axes>"
      ]
     },
     "metadata": {},
     "output_type": "display_data"
    }
   ],
   "source": [
    "pd.DataFrame(loss_tracker).plot(figsize=(9, 5), title=\"Score-matching loss over epochs\"); "
   ]
  },
  {
   "attachments": {},
   "cell_type": "markdown",
   "metadata": {},
   "source": [
    "## Generate new samples\n",
    "\n",
    "Once the score-based model trained, we can use an iterative procedure called Langevin dynamics to draw samples from it. Langevin dynamics provides an MCMC procedure to sample from a distribution using only its score function."
   ]
  },
  {
   "cell_type": "code",
   "execution_count": 450,
   "metadata": {},
   "outputs": [
    {
     "data": {
      "application/vnd.jupyter.widget-view+json": {
       "model_id": "0deed23deabf490d9a9c6edacd5f8cdc",
       "version_major": 2,
       "version_minor": 0
      },
      "text/plain": [
       "Annealing Langevin dynamics over 100 sigmas.:   0%|          | 0/100 [00:00<?, ?it/s]"
      ]
     },
     "metadata": {},
     "output_type": "display_data"
    },
    {
     "data": {
      "application/vnd.jupyter.widget-view+json": {
       "model_id": "7ac176fcd10a4039863220cee0b8d62e",
       "version_major": 2,
       "version_minor": 0
      },
      "text/plain": [
       "Annealing Langevin dynamics over 100 sigmas.:   0%|          | 0/100 [00:00<?, ?it/s]"
      ]
     },
     "metadata": {},
     "output_type": "display_data"
    },
    {
     "data": {
      "application/vnd.jupyter.widget-view+json": {
       "model_id": "1221cb9cd724464ca4df95a0c803d650",
       "version_major": 2,
       "version_minor": 0
      },
      "text/plain": [
       "Annealing Langevin dynamics over 100 sigmas.:   0%|          | 0/100 [00:00<?, ?it/s]"
      ]
     },
     "metadata": {},
     "output_type": "display_data"
    },
    {
     "data": {
      "text/plain": [
       "torch.Size([96, 48])"
      ]
     },
     "execution_count": 450,
     "metadata": {},
     "output_type": "execute_result"
    }
   ],
   "source": [
    "synthetic_samples = runner.sample()\n",
    "synthetic_samples.shape"
   ]
  },
  {
   "cell_type": "code",
   "execution_count": 451,
   "metadata": {},
   "outputs": [],
   "source": [
    "data.generate(synthetic_samples)"
   ]
  },
  {
   "cell_type": "code",
   "execution_count": 452,
   "metadata": {},
   "outputs": [
    {
     "data": {
      "text/html": [
       "<div>\n",
       "<style scoped>\n",
       "    .dataframe tbody tr th:only-of-type {\n",
       "        vertical-align: middle;\n",
       "    }\n",
       "\n",
       "    .dataframe tbody tr th {\n",
       "        vertical-align: top;\n",
       "    }\n",
       "\n",
       "    .dataframe thead th {\n",
       "        text-align: right;\n",
       "    }\n",
       "</style>\n",
       "<table border=\"1\" class=\"dataframe\">\n",
       "  <thead>\n",
       "    <tr style=\"text-align: right;\">\n",
       "      <th></th>\n",
       "      <th>duration_in_month</th>\n",
       "      <th>credit_amount</th>\n",
       "      <th>installment_as_income_perc</th>\n",
       "      <th>present_residence_since</th>\n",
       "      <th>age</th>\n",
       "      <th>credits_this_bank</th>\n",
       "      <th>people_under_maintenance</th>\n",
       "      <th>account_check_status</th>\n",
       "      <th>credit_history</th>\n",
       "      <th>purpose</th>\n",
       "      <th>...</th>\n",
       "      <th>present_employment_since</th>\n",
       "      <th>sex</th>\n",
       "      <th>personal_status</th>\n",
       "      <th>other_debtors</th>\n",
       "      <th>property</th>\n",
       "      <th>other_installment_plans</th>\n",
       "      <th>housing</th>\n",
       "      <th>job</th>\n",
       "      <th>telephone</th>\n",
       "      <th>foreign_worker</th>\n",
       "    </tr>\n",
       "  </thead>\n",
       "  <tbody>\n",
       "    <tr>\n",
       "      <th>0</th>\n",
       "      <td>32.894829</td>\n",
       "      <td>5583.673828</td>\n",
       "      <td>4.086951</td>\n",
       "      <td>2.84625</td>\n",
       "      <td>35.55875</td>\n",
       "      <td>1.44742</td>\n",
       "      <td>1.14375</td>\n",
       "      <td>&lt; 0 DM</td>\n",
       "      <td>existing credits paid back duly till now</td>\n",
       "      <td>car (new)</td>\n",
       "      <td>...</td>\n",
       "      <td>1 &lt;= ... &lt; 4 years</td>\n",
       "      <td>male</td>\n",
       "      <td>single</td>\n",
       "      <td>none</td>\n",
       "      <td>if not A121/A122 : car or other, not in attrib...</td>\n",
       "      <td>none</td>\n",
       "      <td>own</td>\n",
       "      <td>skilled employee / official</td>\n",
       "      <td>none</td>\n",
       "      <td>yes</td>\n",
       "    </tr>\n",
       "    <tr>\n",
       "      <th>1</th>\n",
       "      <td>31.329468</td>\n",
       "      <td>3586.09082</td>\n",
       "      <td>2.965</td>\n",
       "      <td>2.84625</td>\n",
       "      <td>35.55875</td>\n",
       "      <td>1.41125</td>\n",
       "      <td>1.14375</td>\n",
       "      <td>&gt;= 200 DM / salary assignments for at least 1 ...</td>\n",
       "      <td>existing credits paid back duly till now</td>\n",
       "      <td>car (new)</td>\n",
       "      <td>...</td>\n",
       "      <td>1 &lt;= ... &lt; 4 years</td>\n",
       "      <td>male</td>\n",
       "      <td>divorced</td>\n",
       "      <td>none</td>\n",
       "      <td>real estate</td>\n",
       "      <td>none</td>\n",
       "      <td>own</td>\n",
       "      <td>skilled employee / official</td>\n",
       "      <td>yes, registered under the customers name</td>\n",
       "      <td>yes</td>\n",
       "    </tr>\n",
       "    <tr>\n",
       "      <th>2</th>\n",
       "      <td>31.066511</td>\n",
       "      <td>5462.456543</td>\n",
       "      <td>3.830617</td>\n",
       "      <td>2.84625</td>\n",
       "      <td>35.55875</td>\n",
       "      <td>1.41125</td>\n",
       "      <td>1.14375</td>\n",
       "      <td>&gt;= 200 DM / salary assignments for at least 1 ...</td>\n",
       "      <td>existing credits paid back duly till now</td>\n",
       "      <td>domestic appliances</td>\n",
       "      <td>...</td>\n",
       "      <td>1 &lt;= ... &lt; 4 years</td>\n",
       "      <td>male</td>\n",
       "      <td>married</td>\n",
       "      <td>none</td>\n",
       "      <td>if not A121/A122 : car or other, not in attrib...</td>\n",
       "      <td>none</td>\n",
       "      <td>own</td>\n",
       "      <td>skilled employee / official</td>\n",
       "      <td>yes, registered under the customers name</td>\n",
       "      <td>yes</td>\n",
       "    </tr>\n",
       "    <tr>\n",
       "      <th>3</th>\n",
       "      <td>21.094999</td>\n",
       "      <td>3360.618652</td>\n",
       "      <td>3.517698</td>\n",
       "      <td>2.84625</td>\n",
       "      <td>35.55875</td>\n",
       "      <td>1.41125</td>\n",
       "      <td>1.14375</td>\n",
       "      <td>&lt; 0 DM</td>\n",
       "      <td>existing credits paid back duly till now</td>\n",
       "      <td>radio/television</td>\n",
       "      <td>...</td>\n",
       "      <td>1 &lt;= ... &lt; 4 years</td>\n",
       "      <td>male</td>\n",
       "      <td>divorced</td>\n",
       "      <td>none</td>\n",
       "      <td>real estate</td>\n",
       "      <td>none</td>\n",
       "      <td>own</td>\n",
       "      <td>skilled employee / official</td>\n",
       "      <td>yes, registered under the customers name</td>\n",
       "      <td>yes</td>\n",
       "    </tr>\n",
       "    <tr>\n",
       "      <th>4</th>\n",
       "      <td>27.52659</td>\n",
       "      <td>3360.618652</td>\n",
       "      <td>2.965</td>\n",
       "      <td>2.84625</td>\n",
       "      <td>46.054886</td>\n",
       "      <td>1.41125</td>\n",
       "      <td>1.14375</td>\n",
       "      <td>no checking account</td>\n",
       "      <td>delay in paying off in the past</td>\n",
       "      <td>car (used)</td>\n",
       "      <td>...</td>\n",
       "      <td>... &lt; 1 year</td>\n",
       "      <td>male</td>\n",
       "      <td>single</td>\n",
       "      <td>none</td>\n",
       "      <td>if not A121/A122 : car or other, not in attrib...</td>\n",
       "      <td>none</td>\n",
       "      <td>own</td>\n",
       "      <td>unskilled - resident</td>\n",
       "      <td>yes, registered under the customers name</td>\n",
       "      <td>yes</td>\n",
       "    </tr>\n",
       "  </tbody>\n",
       "</table>\n",
       "<p>5 rows × 21 columns</p>\n",
       "</div>"
      ],
      "text/plain": [
       "  duration_in_month credit_amount installment_as_income_perc  \\\n",
       "0         32.894829   5583.673828                   4.086951   \n",
       "1         31.329468    3586.09082                      2.965   \n",
       "2         31.066511   5462.456543                   3.830617   \n",
       "3         21.094999   3360.618652                   3.517698   \n",
       "4          27.52659   3360.618652                      2.965   \n",
       "\n",
       "  present_residence_since        age credits_this_bank  \\\n",
       "0                 2.84625   35.55875           1.44742   \n",
       "1                 2.84625   35.55875           1.41125   \n",
       "2                 2.84625   35.55875           1.41125   \n",
       "3                 2.84625   35.55875           1.41125   \n",
       "4                 2.84625  46.054886           1.41125   \n",
       "\n",
       "  people_under_maintenance                               account_check_status  \\\n",
       "0                  1.14375                                             < 0 DM   \n",
       "1                  1.14375  >= 200 DM / salary assignments for at least 1 ...   \n",
       "2                  1.14375  >= 200 DM / salary assignments for at least 1 ...   \n",
       "3                  1.14375                                             < 0 DM   \n",
       "4                  1.14375                                no checking account   \n",
       "\n",
       "                             credit_history              purpose  ...  \\\n",
       "0  existing credits paid back duly till now            car (new)  ...   \n",
       "1  existing credits paid back duly till now            car (new)  ...   \n",
       "2  existing credits paid back duly till now  domestic appliances  ...   \n",
       "3  existing credits paid back duly till now     radio/television  ...   \n",
       "4           delay in paying off in the past           car (used)  ...   \n",
       "\n",
       "  present_employment_since   sex personal_status other_debtors  \\\n",
       "0       1 <= ... < 4 years  male          single          none   \n",
       "1       1 <= ... < 4 years  male        divorced          none   \n",
       "2       1 <= ... < 4 years  male         married          none   \n",
       "3       1 <= ... < 4 years  male        divorced          none   \n",
       "4             ... < 1 year  male          single          none   \n",
       "\n",
       "                                            property other_installment_plans  \\\n",
       "0  if not A121/A122 : car or other, not in attrib...                    none   \n",
       "1                                        real estate                    none   \n",
       "2  if not A121/A122 : car or other, not in attrib...                    none   \n",
       "3                                        real estate                    none   \n",
       "4  if not A121/A122 : car or other, not in attrib...                    none   \n",
       "\n",
       "  housing                          job  \\\n",
       "0     own  skilled employee / official   \n",
       "1     own  skilled employee / official   \n",
       "2     own  skilled employee / official   \n",
       "3     own  skilled employee / official   \n",
       "4     own         unskilled - resident   \n",
       "\n",
       "                                  telephone foreign_worker  \n",
       "0                                      none            yes  \n",
       "1  yes, registered under the customers name            yes  \n",
       "2  yes, registered under the customers name            yes  \n",
       "3  yes, registered under the customers name            yes  \n",
       "4  yes, registered under the customers name            yes  \n",
       "\n",
       "[5 rows x 21 columns]"
      ]
     },
     "execution_count": 452,
     "metadata": {},
     "output_type": "execute_result"
    }
   ],
   "source": [
    "data.synthetic_df.head()"
   ]
  },
  {
   "attachments": {},
   "cell_type": "markdown",
   "metadata": {},
   "source": [
    "## Classification models\n",
    "\n",
    "With a view to assess the quality of the generated samples, we train 2 classifiers. The first one is trained on the original data whereas the second one is trained on the augmented dataset. Note the latter contains more default entries than the former. "
   ]
  },
  {
   "cell_type": "code",
   "execution_count": 481,
   "metadata": {},
   "outputs": [],
   "source": [
    "target_names = [\"No Default\", \"Default\"]\n",
    "\n",
    "clf = LogisticRegression()\n",
    "clf.fit(data.X_tr, data.y_tr)\n",
    "\n",
    "clf_report = get_clf_metrics(clf, data.X_tr, data.y_tr, data.X_te, data.y_te, target_names)"
   ]
  },
  {
   "cell_type": "code",
   "execution_count": 483,
   "metadata": {},
   "outputs": [],
   "source": [
    "X_tr_aug = np.concatenate([data.X_tr, data.X_syn])\n",
    "y_syn = np.ones(data.X_syn.shape[0])\n",
    "y_tr_aug = np.concatenate([data.y_tr, y_syn])\n",
    "\n",
    "clf_aug = LogisticRegression()\n",
    "clf_aug.fit(X_tr_aug, y_tr_aug) \n",
    "\n",
    "clf_aug_report = get_clf_metrics(clf_aug, X_tr_aug, y_tr_aug, data.X_te, data.y_te, target_names)"
   ]
  },
  {
   "cell_type": "code",
   "execution_count": 485,
   "metadata": {},
   "outputs": [
    {
     "data": {
      "text/html": [
       "<pre style=\"white-space:pre;overflow-x:auto;line-height:normal;font-family:Menlo,'DejaVu Sans Mono',consolas,'Courier New',monospace\"><span style=\"font-style: italic\">              Classification Report (train)              </span>\n",
       "┏━━━━━━━━━━━━━━━━━━━━━━┳━━━━━━━━━━━━━━━┳━━━━━━━━━━━━━━━━┓\n",
       "┃<span style=\"font-weight: bold\"> Metric               </span>┃<span style=\"font-weight: bold\"> Original Data </span>┃<span style=\"font-weight: bold\"> Augmented Data </span>┃\n",
       "┡━━━━━━━━━━━━━━━━━━━━━━╇━━━━━━━━━━━━━━━╇━━━━━━━━━━━━━━━━┩\n",
       "│ No Default precision │ 0.809         │ 0.813          │\n",
       "│ No Default recall    │ 0.893         │ 0.853          │\n",
       "│ No Default f1-score  │ 0.849         │ 0.832          │\n",
       "│ Default precision    │ 0.672         │ 0.735          │\n",
       "│ Default recall       │ 0.51          │ 0.674          │\n",
       "│ Default f1-score     │ 0.58          │ 0.703          │\n",
       "│ accuracy             │ 0.777         │ 0.777          │\n",
       "└──────────────────────┴───────────────┴────────────────┘\n",
       "</pre>\n"
      ],
      "text/plain": [
       "\u001b[3m              Classification Report (train)              \u001b[0m\n",
       "┏━━━━━━━━━━━━━━━━━━━━━━┳━━━━━━━━━━━━━━━┳━━━━━━━━━━━━━━━━┓\n",
       "┃\u001b[1m \u001b[0m\u001b[1mMetric              \u001b[0m\u001b[1m \u001b[0m┃\u001b[1m \u001b[0m\u001b[1mOriginal Data\u001b[0m\u001b[1m \u001b[0m┃\u001b[1m \u001b[0m\u001b[1mAugmented Data\u001b[0m\u001b[1m \u001b[0m┃\n",
       "┡━━━━━━━━━━━━━━━━━━━━━━╇━━━━━━━━━━━━━━━╇━━━━━━━━━━━━━━━━┩\n",
       "│ No Default precision │ 0.809         │ 0.813          │\n",
       "│ No Default recall    │ 0.893         │ 0.853          │\n",
       "│ No Default f1-score  │ 0.849         │ 0.832          │\n",
       "│ Default precision    │ 0.672         │ 0.735          │\n",
       "│ Default recall       │ 0.51          │ 0.674          │\n",
       "│ Default f1-score     │ 0.58          │ 0.703          │\n",
       "│ accuracy             │ 0.777         │ 0.777          │\n",
       "└──────────────────────┴───────────────┴────────────────┘\n"
      ]
     },
     "metadata": {},
     "output_type": "display_data"
    },
    {
     "data": {
      "text/html": [
       "<pre style=\"white-space:pre;overflow-x:auto;line-height:normal;font-family:Menlo,'DejaVu Sans Mono',consolas,'Courier New',monospace\"><span style=\"font-style: italic\">              Classification Report (test)               </span>\n",
       "┏━━━━━━━━━━━━━━━━━━━━━━┳━━━━━━━━━━━━━━━┳━━━━━━━━━━━━━━━━┓\n",
       "┃<span style=\"font-weight: bold\"> Metric               </span>┃<span style=\"font-weight: bold\"> Original Data </span>┃<span style=\"font-weight: bold\"> Augmented Data </span>┃\n",
       "┡━━━━━━━━━━━━━━━━━━━━━━╇━━━━━━━━━━━━━━━╇━━━━━━━━━━━━━━━━┩\n",
       "│ No Default precision │ 0.825         │ 0.823          │\n",
       "│ No Default recall    │ 0.901         │ 0.858          │\n",
       "│ No Default f1-score  │ 0.861         │ 0.84           │\n",
       "│ Default precision    │ 0.696         │ 0.623          │\n",
       "│ Default recall       │ 0.542         │ 0.559          │\n",
       "│ Default f1-score     │ 0.61          │ 0.589          │\n",
       "│ accuracy             │ 0.795         │ 0.795          │\n",
       "└──────────────────────┴───────────────┴────────────────┘\n",
       "</pre>\n"
      ],
      "text/plain": [
       "\u001b[3m              Classification Report (test)               \u001b[0m\n",
       "┏━━━━━━━━━━━━━━━━━━━━━━┳━━━━━━━━━━━━━━━┳━━━━━━━━━━━━━━━━┓\n",
       "┃\u001b[1m \u001b[0m\u001b[1mMetric              \u001b[0m\u001b[1m \u001b[0m┃\u001b[1m \u001b[0m\u001b[1mOriginal Data\u001b[0m\u001b[1m \u001b[0m┃\u001b[1m \u001b[0m\u001b[1mAugmented Data\u001b[0m\u001b[1m \u001b[0m┃\n",
       "┡━━━━━━━━━━━━━━━━━━━━━━╇━━━━━━━━━━━━━━━╇━━━━━━━━━━━━━━━━┩\n",
       "│ No Default precision │ 0.825         │ 0.823          │\n",
       "│ No Default recall    │ 0.901         │ 0.858          │\n",
       "│ No Default f1-score  │ 0.861         │ 0.84           │\n",
       "│ Default precision    │ 0.696         │ 0.623          │\n",
       "│ Default recall       │ 0.542         │ 0.559          │\n",
       "│ Default f1-score     │ 0.61          │ 0.589          │\n",
       "│ accuracy             │ 0.795         │ 0.795          │\n",
       "└──────────────────────┴───────────────┴────────────────┘\n"
      ]
     },
     "metadata": {},
     "output_type": "display_data"
    }
   ],
   "source": [
    "display_clf_metrics(clf_report, clf_aug_report)"
   ]
  }
 ],
 "metadata": {
  "kernelspec": {
   "display_name": "env",
   "language": "python",
   "name": "python3"
  },
  "language_info": {
   "codemirror_mode": {
    "name": "ipython",
    "version": 3
   },
   "file_extension": ".py",
   "mimetype": "text/x-python",
   "name": "python",
   "nbconvert_exporter": "python",
   "pygments_lexer": "ipython3",
   "version": "3.9.9"
  },
  "orig_nbformat": 4
 },
 "nbformat": 4,
 "nbformat_minor": 2
}
